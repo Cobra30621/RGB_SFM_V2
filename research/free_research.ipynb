{
 "cells": [
  {
   "metadata": {
    "ExecuteTime": {
     "end_time": "2024-10-28T08:36:22.376003Z",
     "start_time": "2024-10-28T08:36:18.253412Z"
    }
   },
   "cell_type": "code",
   "source": [
    "from dataloader import get_dataloader\n",
    "from config import config, arch\n",
    "\n",
    "# config['dataset']\n",
    "# \n",
    "# data_name = \"HeartCalcification_Gray\"\n",
    "data_name = config['dataset']\n",
    "loader = get_dataloader(dataset=data_name, root=config['root'] + '/data/',\n",
    "                          batch_size=config['batch_size'], input_size=config['input_shape'])"
   ],
   "id": "a318d3af80a79524",
   "outputs": [
    {
     "name": "stdout",
     "output_type": "stream",
     "text": [
      "Code/runs/train/exp\n",
      "Using downloaded and verified file: C:\\Users\\Cobra\\.medmnist\\dermamnist.npz\n",
      "Using downloaded and verified file: C:\\Users\\Cobra\\.medmnist\\dermamnist.npz\n"
     ]
    }
   ],
   "execution_count": 1
  },
  {
   "metadata": {
    "ExecuteTime": {
     "end_time": "2024-10-28T08:37:37.367207Z",
     "start_time": "2024-10-28T08:37:37.310944Z"
    }
   },
   "cell_type": "code",
   "source": [
    "counter = 0\n",
    "for images, label in  loader[0]:\n",
    "    print(images.shape)\n",
    "    print(\"label\", label.shape)\n",
    "    \n",
    "    counter += 1   \n",
    "    if counter == 1:\n",
    "        break"
   ],
   "id": "86eaa9c1c51a32a5",
   "outputs": [
    {
     "name": "stdout",
     "output_type": "stream",
     "text": [
      "torch.Size([256, 3, 28, 28])\n",
      "label torch.Size([256, 7])\n"
     ]
    }
   ],
   "execution_count": 2
  },
  {
   "metadata": {},
   "cell_type": "code",
   "outputs": [],
   "execution_count": null,
   "source": "",
   "id": "2f89277dcde8d1c0"
  }
 ],
 "metadata": {
  "kernelspec": {
   "display_name": "Python 3",
   "language": "python",
   "name": "python3"
  },
  "language_info": {
   "codemirror_mode": {
    "name": "ipython",
    "version": 2
   },
   "file_extension": ".py",
   "mimetype": "text/x-python",
   "name": "python",
   "nbconvert_exporter": "python",
   "pygments_lexer": "ipython2",
   "version": "2.7.6"
  }
 },
 "nbformat": 4,
 "nbformat_minor": 5
}
