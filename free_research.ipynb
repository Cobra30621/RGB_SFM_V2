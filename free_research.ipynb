{
 "cells": [
  {
   "metadata": {
    "ExecuteTime": {
     "end_time": "2024-12-26T09:19:16.985221Z",
     "start_time": "2024-12-26T09:19:12.777572Z"
    }
   },
   "cell_type": "code",
   "source": [
    "from PIL import Image\n",
    "import torch\n",
    "import torchvision\n",
    "import random\n",
    "import torch.nn.functional as F\n",
    "import numpy as np\n",
    "\n",
    "from torchsummary import summary\n",
    "from torch import nn\n",
    "\n",
    "from config import *\n",
    "from utils import *\n",
    "from models.SFMCNN import SFMCNN\n",
    "from models.RGB_SFMCNN import RGB_SFMCNN\n",
    "from models.RGB_SFMCNN_V2 import RGB_SFMCNN_V2\n",
    "from dataloader import get_dataloader\n",
    "\n",
    "import matplotlib\n",
    "\n",
    "\n",
    "matplotlib.use('Agg')\n",
    "\n",
    "'''\n",
    "\t對某個資料集產生RM，RM-CI\n",
    "'''\n",
    "\n",
    "with torch.no_grad():\n",
    "    # Load Dataset\n",
    "    train_dataloader, test_dataloader = get_dataloader(dataset=config['dataset'], root=config['root'] + '/data/',\n",
    "                                                       batch_size=config['batch_size'],\n",
    "                                                       input_size=config['input_shape'])\n",
    "    images, labels = torch.tensor([]), torch.tensor([])\n",
    "    for batch in test_dataloader:\n",
    "        imgs, lbls = batch\n",
    "        images = torch.cat((images, imgs))\n",
    "        labels = torch.cat((labels, lbls))\n",
    "    print(images.shape, labels.shape)\n",
    "\n",
    "    # Load Model\n",
    "    models = {'SFMCNN': SFMCNN, 'RGB_SFMCNN': RGB_SFMCNN, 'RGB_SFMCNN_V2': RGB_SFMCNN_V2}\n",
    "    checkpoint_filename = 'RGB_SFMCNN_V2_best'\n",
    "    checkpoint = torch.load(f'./pth/{config[\"dataset\"]}_pth/{checkpoint_filename}.pth', weights_only=True)\n",
    "    model = models[arch['name']](**dict(config['model']['args']))\n",
    "    model.load_state_dict(checkpoint['model_weights'])\n",
    "    model.cpu()\n",
    "    model.eval()\n",
    "    summary(model, input_size=(config['model']['args']['in_channels'], *config['input_shape']), device='cpu')\n",
    "    print(model)\n",
    "\n",
    "    # Test Model\n",
    "    batch_num = 1000\n",
    "    pred = model(images[:batch_num])\n",
    "    y = labels[:batch_num]\n",
    "    correct = (pred.argmax(1) == y.argmax(1)).type(torch.float).sum().item()\n",
    "    print(\"Test Accuracy: \" + str(correct / len(pred)))\n",
    "    # input()\n"
   ],
   "id": "81f23a76c61d4540",
   "outputs": [
    {
     "name": "stdout",
     "output_type": "stream",
     "text": [
      "torch.Size([900, 3, 28, 28]) torch.Size([900, 9])\n",
      "input torch.Size([2, 3, 28, 28])\n",
      "output_width 6\n",
      "output_height 6\n",
      "self.kernel_size (5, 5), self.stride 4, self.padding : 0\n",
      "windowtorch.Size([2, 36, 75])\n",
      "window after torch.Size([2, 36, 3, 25])\n",
      "windows_RGBcolor torch.Size([2, 36, 3])\n",
      "windows_RGBcolortorch.Size([2, 36, 1, 3])\n",
      "weights_RGBcolortorch.Size([30, 3])\n",
      "rmean torch.Size([2, 36, 30])\n",
      "R_1 torch.Size([2, 36, 1])\n",
      "R_2 torch.Size([30])\n",
      "distance torch.Size([2, 36, 30])\n",
      "----------------------------------------------------------------\n",
      "        Layer (type)               Output Shape         Param #\n",
      "================================================================\n",
      "        RGB_Conv2d-1             [-1, 30, 6, 6]               0\n",
      "        RGB_Conv2d-2             [-1, 30, 6, 6]               0\n",
      "          triangle-3             [-1, 30, 6, 6]               0\n",
      "          triangle-4             [-1, 30, 6, 6]               0\n",
      "     cReLU_percent-5             [-1, 30, 6, 6]               0\n",
      "     cReLU_percent-6             [-1, 30, 6, 6]               0\n",
      "               SFM-7             [-1, 30, 3, 3]               0\n",
      "        RBF_Conv2d-8            [-1, 225, 3, 3]           6,750\n",
      "          triangle-9            [-1, 225, 3, 3]               0\n",
      "    cReLU_percent-10            [-1, 225, 3, 3]               0\n",
      "              SFM-11            [-1, 225, 3, 1]               0\n",
      "       RBF_Conv2d-12            [-1, 625, 3, 1]         140,625\n",
      "         triangle-13            [-1, 625, 3, 1]               0\n",
      "    cReLU_percent-14            [-1, 625, 3, 1]               0\n",
      "      Gray_Conv2d-15             [-1, 70, 6, 6]           1,750\n",
      "      Gray_Conv2d-16             [-1, 70, 6, 6]           1,750\n",
      "         triangle-17             [-1, 70, 6, 6]               0\n",
      "         triangle-18             [-1, 70, 6, 6]               0\n",
      "    cReLU_percent-19             [-1, 70, 6, 6]               0\n",
      "    cReLU_percent-20             [-1, 70, 6, 6]               0\n",
      "              SFM-21             [-1, 70, 3, 3]               0\n",
      "       RBF_Conv2d-22            [-1, 625, 3, 3]          43,750\n",
      "         triangle-23            [-1, 625, 3, 3]               0\n",
      "    cReLU_percent-24            [-1, 625, 3, 3]               0\n",
      "              SFM-25            [-1, 625, 3, 1]               0\n",
      "       RBF_Conv2d-26           [-1, 1225, 3, 1]         765,625\n",
      "         triangle-27           [-1, 1225, 3, 1]               0\n",
      "    cReLU_percent-28           [-1, 1225, 3, 1]               0\n",
      "           Linear-29                    [-1, 9]          49,959\n",
      "================================================================\n",
      "Total params: 1,010,209\n",
      "Trainable params: 1,010,209\n",
      "Non-trainable params: 0\n",
      "----------------------------------------------------------------\n",
      "Input size (MB): 0.01\n",
      "Forward/backward pass size (MB): 0.49\n",
      "Params size (MB): 3.85\n",
      "Estimated Total Size (MB): 4.36\n",
      "----------------------------------------------------------------\n",
      "RGB_SFMCNN_V2(\n",
      "  (RGB_conv2d): Sequential(\n",
      "    (0): RGB_Conv2d(initial = uniform, weight shape = torch.Size([30, 3]), cal_dist = LAB)\n",
      "    (1): triangle(w = 1.6888445615768433)\n",
      "    (2): cReLU_percent(percent=0.30000001192092896)\n",
      "  )\n",
      "  (GRAY_conv2d): Sequential(\n",
      "    (0): Gray_Conv2d(initial = kaiming, weight shape = (70, 1, 5, 5))\n",
      "    (1): triangle(w = 3.991537570953369)\n",
      "    (2): cReLU_percent(percent=0.30000001192092896)\n",
      "  )\n",
      "  (RGB_convs): Sequential(\n",
      "    (0): Sequential(\n",
      "      (0): RGB_Conv2d(initial = uniform, weight shape = torch.Size([30, 3]), cal_dist = LAB)\n",
      "      (1): triangle(w = 1.6888445615768433)\n",
      "      (2): cReLU_percent(percent=0.30000001192092896)\n",
      "    )\n",
      "    (1): SFM(\n",
      "      filter=(2, 2), alpha=[[0.99 0.96]\n",
      "       [0.93 0.9 ]]\n",
      "    )\n",
      "    (2): Sequential(\n",
      "      (0): RBF_Conv2d(initial = uniform, weight shape = (225, 30, 1, 1))\n",
      "      (1): triangle(w = 3.722526788711548)\n",
      "      (2): cReLU_percent(percent=0.4000000059604645)\n",
      "      (3): SFM(filter=(1, 3), alpha=[[0.99  0.945 0.9  ]])\n",
      "    )\n",
      "    (3): Sequential(\n",
      "      (0): RBF_Conv2d(initial = kaiming, weight shape = (625, 225, 1, 1))\n",
      "      (1): triangle(w = 6.185653209686279)\n",
      "      (2): cReLU_percent(percent=0.5)\n",
      "    )\n",
      "  )\n",
      "  (Gray_convs): Sequential(\n",
      "    (0): Sequential(\n",
      "      (0): Gray_Conv2d(initial = kaiming, weight shape = (70, 1, 5, 5))\n",
      "      (1): triangle(w = 3.991537570953369)\n",
      "      (2): cReLU_percent(percent=0.30000001192092896)\n",
      "    )\n",
      "    (1): SFM(\n",
      "      filter=(2, 2), alpha=[[0.99 0.96]\n",
      "       [0.93 0.9 ]]\n",
      "    )\n",
      "    (2): Sequential(\n",
      "      (0): RBF_Conv2d(initial = kaiming, weight shape = (625, 70, 1, 1))\n",
      "      (1): triangle(w = 5.946383476257324)\n",
      "      (2): cReLU_percent(percent=0.4000000059604645)\n",
      "      (3): SFM(filter=(1, 3), alpha=[[0.99  0.945 0.9  ]])\n",
      "    )\n",
      "    (3): Sequential(\n",
      "      (0): RBF_Conv2d(initial = kaiming, weight shape = (1225, 625, 1, 1))\n",
      "      (1): triangle(w = 7.930598735809326)\n",
      "      (2): cReLU_percent(percent=0.5)\n",
      "    )\n",
      "  )\n",
      "  (fc1): Sequential(\n",
      "    (0): Linear(in_features=5550, out_features=9, bias=True)\n",
      "  )\n",
      ")\n",
      "input torch.Size([900, 3, 28, 28])\n",
      "output_width 6\n",
      "output_height 6\n",
      "self.kernel_size (5, 5), self.stride 4, self.padding : 0\n",
      "windowtorch.Size([900, 36, 75])\n",
      "window after torch.Size([900, 36, 3, 25])\n",
      "windows_RGBcolor torch.Size([900, 36, 3])\n",
      "windows_RGBcolortorch.Size([900, 36, 1, 3])\n",
      "weights_RGBcolortorch.Size([30, 3])\n",
      "rmean torch.Size([900, 36, 30])\n",
      "R_1 torch.Size([900, 36, 1])\n",
      "R_2 torch.Size([30])\n",
      "distance torch.Size([900, 36, 30])\n",
      "Test Accuracy: 0.3211111111111111\n"
     ]
    }
   ],
   "execution_count": 2
  },
  {
   "metadata": {
    "ExecuteTime": {
     "end_time": "2024-12-26T09:19:18.294655Z",
     "start_time": "2024-12-26T09:19:18.283136Z"
    }
   },
   "cell_type": "code",
   "source": "layers = get_layers(model)",
   "id": "b7799bd72535092e",
   "outputs": [],
   "execution_count": 3
  },
  {
   "metadata": {
    "ExecuteTime": {
     "end_time": "2024-12-26T09:23:48.780323Z",
     "start_time": "2024-12-26T09:23:48.755673Z"
    }
   },
   "cell_type": "code",
   "source": [
    "# 新增的迴圈來讀取指定資料夾中的圖片\n",
    "input_folder = f'./detect/{config[\"dataset\"]}_{checkpoint_filename}/test_images/'  # 指定資料夾路徑\n",
    "image_files = os.listdir(input_folder)\n",
    "\n",
    "images = []\n",
    "for image_file in image_files:\n",
    "    if image_file.endswith(('.png', '.jpg', '.jpeg')):  # 檢查檔案類型\n",
    "        # 讀取圖片\n",
    "        image_path = os.path.join(input_folder, image_file)\n",
    "        test_image = Image.open(image_path).convert('RGB')  # 轉換為 RGB 格式\n",
    "        test_image = torchvision.transforms.ToTensor()(test_image)  # 轉換為 Tensor\n",
    "\n",
    "        images.append(test_image)\n",
    "\n",
    "image = images[0]"
   ],
   "id": "fbef11ac565c98d0",
   "outputs": [],
   "execution_count": 9
  },
  {
   "metadata": {
    "ExecuteTime": {
     "end_time": "2024-12-26T09:25:31.260692Z",
     "start_time": "2024-12-26T09:25:31.211429Z"
    }
   },
   "cell_type": "code",
   "source": [
    "# 繪製 image\n",
    "import matplotlib.pyplot as plt\n",
    "\n",
    "plt.imshow(image.permute(1, 2, 0))  # 調整維度以適應 imshow\n",
    "plt.axis('off')  # 不顯示坐標軸\n",
    "plt.savefig('output_image.png', bbox_inches='tight', pad_inches=0)  # 保存圖片\n",
    "plt.close()  # 關閉圖形以釋放資源"
   ],
   "id": "421d432e355fdd2e",
   "outputs": [],
   "execution_count": 13
  },
  {
   "metadata": {
    "ExecuteTime": {
     "end_time": "2024-12-26T09:21:45.152126Z",
     "start_time": "2024-12-26T09:21:45.142615Z"
    }
   },
   "cell_type": "code",
   "source": [
    "layer_num = 'RGB_convs_0_Conv'\n",
    "\n",
    "RM = layers[layer_num](image.unsqueeze(0))[0]"
   ],
   "id": "19fc7c70e4befeb6",
   "outputs": [
    {
     "name": "stdout",
     "output_type": "stream",
     "text": [
      "input torch.Size([1, 3, 28, 28])\n",
      "output_width 6\n",
      "output_height 6\n",
      "self.kernel_size (5, 5), self.stride 4, self.padding : 0\n",
      "windowtorch.Size([1, 36, 75])\n",
      "window after torch.Size([1, 36, 3, 25])\n",
      "windows_RGBcolor torch.Size([1, 36, 3])\n",
      "windows_RGBcolortorch.Size([1, 36, 1, 3])\n",
      "weights_RGBcolortorch.Size([30, 3])\n",
      "rmean torch.Size([1, 36, 30])\n",
      "R_1 torch.Size([1, 36, 1])\n",
      "R_2 torch.Size([30])\n",
      "distance torch.Size([1, 36, 30])\n"
     ]
    }
   ],
   "execution_count": 7
  },
  {
   "metadata": {
    "ExecuteTime": {
     "end_time": "2024-12-26T09:27:09.197887Z",
     "start_time": "2024-12-26T09:27:09.189757Z"
    }
   },
   "cell_type": "code",
   "source": "RM[0]",
   "id": "1847f6216a8e2194",
   "outputs": [
    {
     "data": {
      "text/plain": [
       "tensor([[1., 1., 1., 1., 1., 1.],\n",
       "        [1., 1., 1., 1., 1., 1.],\n",
       "        [1., 1., 1., 1., 1., 1.],\n",
       "        [1., 1., 1., 1., 1., 1.],\n",
       "        [1., 1., 1., 1., 1., 1.],\n",
       "        [1., 1., 1., 1., 1., 1.]])"
      ]
     },
     "execution_count": 16,
     "metadata": {},
     "output_type": "execute_result"
    }
   ],
   "execution_count": 16
  },
  {
   "metadata": {
    "ExecuteTime": {
     "end_time": "2024-12-26T09:29:19.678962Z",
     "start_time": "2024-12-26T09:29:19.668634Z"
    }
   },
   "cell_type": "code",
   "source": "RM.permute(1, 2, 0).shape",
   "id": "767a07326624ec86",
   "outputs": [
    {
     "data": {
      "text/plain": [
       "torch.Size([6, 6, 30])"
      ]
     },
     "execution_count": 18,
     "metadata": {},
     "output_type": "execute_result"
    }
   ],
   "execution_count": 18
  },
  {
   "metadata": {
    "ExecuteTime": {
     "end_time": "2024-12-26T09:30:02.499933Z",
     "start_time": "2024-12-26T09:30:02.493791Z"
    }
   },
   "cell_type": "code",
   "source": "RM.permute(1, 2, 0)[0][0]",
   "id": "bdce290c06ede55f",
   "outputs": [
    {
     "data": {
      "text/plain": [
       "tensor([1.0000e+00, 7.1590e-01, 4.8301e-01, 2.6852e-01, 3.4532e-01, 1.4462e-01,\n",
       "        1.8236e-01, 6.2126e-01, 6.5011e-01, 4.2237e-01, 4.1548e-01, 3.1999e-01,\n",
       "        6.7625e-01, 7.8550e-01, 7.0104e-01, 4.2136e-01, 2.8799e-01, 7.9499e-01,\n",
       "        6.8701e-01, 7.1448e-01, 6.5988e-01, 6.7563e-01, 5.2605e-01, 3.4902e-01,\n",
       "        2.3459e-01, 6.5762e-01, 5.9805e-01, 4.6262e-01, 3.9209e-01, 1.3072e-07])"
      ]
     },
     "execution_count": 20,
     "metadata": {},
     "output_type": "execute_result"
    }
   ],
   "execution_count": 20
  },
  {
   "metadata": {},
   "cell_type": "code",
   "outputs": [],
   "execution_count": null,
   "source": "",
   "id": "a6c031edecf9aa3a"
  },
  {
   "metadata": {},
   "cell_type": "code",
   "outputs": [],
   "execution_count": null,
   "source": "",
   "id": "1d50bbe78bdb11bf"
  },
  {
   "metadata": {},
   "cell_type": "code",
   "outputs": [],
   "execution_count": null,
   "source": "",
   "id": "c48b90afb4a2c53e"
  },
  {
   "metadata": {
    "ExecuteTime": {
     "end_time": "2024-12-25T04:26:56.127075Z",
     "start_time": "2024-12-25T04:26:56.112085Z"
    }
   },
   "cell_type": "code",
   "outputs": [
    {
     "name": "stdout",
     "output_type": "stream",
     "text": [
      "windows_RGBcolortorch.Size([2, 4, 1, 3])\n",
      "weights_RGBcolortorch.Size([10, 3])\n",
      "rmean torch.Size([2, 4, 10])\n",
      "R_1 torch.Size([2, 4, 1])\n",
      "R_2 torch.Size([10])\n",
      "R torch.Size([2, 4, 10])\n",
      "distance torch.Size([2, 4, 10])\n",
      "windows_RGBcolortorch.Size([2, 4, 1, 3])\n",
      "weights_RGBcolortorch.Size([10, 3])\n",
      "rmean torch.Size([2, 4, 10])\n",
      "R_1 torch.Size([2, 4, 1])\n",
      "R_2 torch.Size([10])\n",
      "R torch.Size([2, 4, 10])\n",
      "distance torch.Size([2, 4, 10])\n",
      "測試案例 1 的輸出:\n",
      "tensor([[[363.1786, 136.1939, 472.0239, 202.7654, 430.0359, 531.0891, 385.7161,\n",
      "          443.7305, 403.8653, 195.4285],\n",
      "         [288.3929, 575.1699, 285.4569, 545.4024, 414.7142, 211.2638, 281.8374,\n",
      "          297.7462, 447.1385, 489.5802],\n",
      "         [333.1699, 583.4155, 222.5891, 528.2444, 332.7450, 183.2632, 312.1161,\n",
      "          253.8985, 395.9901, 493.3661],\n",
      "         [326.4185, 304.9381, 417.9102, 379.4245, 426.4863, 496.6077, 290.8953,\n",
      "          431.8494, 263.3833, 352.7389]],\n",
      "\n",
      "        [[363.1786, 136.1939, 472.0239, 202.7654, 430.0359, 531.0891, 385.7161,\n",
      "          443.7305, 403.8653, 195.4285],\n",
      "         [288.3929, 575.1699, 285.4569, 545.4024, 414.7142, 211.2638, 281.8374,\n",
      "          297.7462, 447.1385, 489.5802],\n",
      "         [333.1699, 583.4155, 222.5891, 528.2444, 332.7450, 183.2632, 312.1161,\n",
      "          253.8985, 395.9901, 493.3661],\n",
      "         [326.4185, 304.9381, 417.9102, 379.4245, 426.4863, 496.6077, 290.8953,\n",
      "          431.8494, 263.3833, 352.7389]]])\n",
      "\n",
      "測試案例 2 的輸出:\n",
      "tensor([[[363.1786, 136.1939, 472.0239, 202.7654, 430.0359, 531.0891, 385.7161,\n",
      "          443.7305, 403.8653, 195.4285],\n",
      "         [363.1786, 136.1939, 472.0239, 202.7654, 430.0359, 531.0891, 385.7161,\n",
      "          443.7305, 403.8653, 195.4285],\n",
      "         [363.1786, 136.1939, 472.0239, 202.7654, 430.0359, 531.0891, 385.7161,\n",
      "          443.7305, 403.8653, 195.4285],\n",
      "         [536.5084, 366.6697, 480.8446, 301.7603, 353.2680, 585.0425, 528.1316,\n",
      "          475.8019, 376.0266, 374.9525]],\n",
      "\n",
      "        [[363.1786, 136.1939, 472.0239, 202.7654, 430.0359, 531.0891, 385.7161,\n",
      "          443.7305, 403.8653, 195.4285],\n",
      "         [288.3929, 575.1699, 285.4569, 545.4024, 414.7142, 211.2638, 281.8374,\n",
      "          297.7462, 447.1385, 489.5802],\n",
      "         [333.1699, 583.4155, 222.5891, 528.2444, 332.7450, 183.2632, 312.1161,\n",
      "          253.8985, 395.9901, 493.3661],\n",
      "         [326.4185, 304.9381, 417.9102, 379.4245, 426.4863, 496.6077, 290.8953,\n",
      "          431.8494, 263.3833, 352.7389]]])\n"
     ]
    }
   ],
   "execution_count": 8,
   "source": [
    "import torch\n",
    "\n",
    "# 定義 batched LAB 距離計算函數\n",
    "def batched_LAB_distance(windows_RGBcolor, weights_RGBcolor):\n",
    "    print(f\"windows_RGBcolor{windows_RGBcolor.shape}\")\n",
    "    print(f\"weights_RGBcolor{weights_RGBcolor.shape}\")\n",
    "    # RGB 顏色數據從 [0, 1] 映射到 [0, 255]\n",
    "    R_1, G_1, B_1 = windows_RGBcolor[:, :, :, 0] * 255, windows_RGBcolor[:, :, :, 1] * 255, windows_RGBcolor[:, :, :, 2] * 255\n",
    "    R_2, G_2, B_2 = weights_RGBcolor[:, 0] * 255, weights_RGBcolor[:, 1] * 255, weights_RGBcolor[:, 2] * 255\n",
    "\n",
    "    # 計算 rmean 作為矩陣形式\n",
    "    rmean = (R_1 + R_2) / 2\n",
    "    print(f\"rmean {rmean.shape}\")\n",
    "    print(f\"R_1 {R_1.shape}\")\n",
    "    print(f\"R_2 {R_2.shape}\")\n",
    "\n",
    "    # 計算 RGB 分量的差異\n",
    "    R = R_1 - R_2\n",
    "    G = G_1 - G_2\n",
    "    B = B_1 - B_2\n",
    "\n",
    "    print(f\"R {R.shape}\")\n",
    "\n",
    "    # 計算加權的歐幾里得距離\n",
    "    distance = torch.sqrt(\n",
    "        (2 + rmean / 256) * (R ** 2) +\n",
    "        4 * (G ** 2) +\n",
    "        (2 + (255 - rmean) / 256) * (B ** 2) +\n",
    "        1e-8\n",
    "    )\n",
    "\n",
    "    print(f\"distance {distance.shape}\")\n",
    "\n",
    "    return distance\n",
    "\n",
    "# 測試案例 1: 4 個色塊（3 黑色，1 紅色）\n",
    "windows_RGBcolor_1 = torch.tensor([[[[0, 0, 0]], [[1, 1, 0]], [[1, 1, 0.5]], [[1, 0, 0]]],[[[0, 0, 0]], [[1, 1, 0]], [[1, 1, 0.5]], [[1, 0, 0]]]], dtype=torch.float32)  # (2, 4, 1, 3)\n",
    "weights_RGBcolor = torch.rand((10, 3), dtype=torch.float32)  # 隨機生成 10 種顏色\n",
    "\n",
    "# 測試案例 2: 4 個色塊（3 黑色，1 藍色）\n",
    "windows_RGBcolor_2 = torch.tensor([[[[0, 0, 0]], [[0, 0, 0]], [[0, 0, 0]], [[0, 0, 1]]],[[[0, 0, 0]], [[1, 1, 0]], [[1, 1, 0.5]], [[1, 0, 0]]]], dtype=torch.float32)  # (2, 4, 1, 3)\n",
    "\n",
    "# 執行測試\n",
    "output_1 = batched_LAB_distance(windows_RGBcolor_1, weights_RGBcolor)\n",
    "output_2 = batched_LAB_distance(windows_RGBcolor_2, weights_RGBcolor)\n",
    "\n",
    "# 印出測試結果\n",
    "print(\"測試案例 1 的輸出:\")\n",
    "print(output_1)\n",
    "\n",
    "print(\"\\n測試案例 2 的輸出:\")\n",
    "print(output_2)"
   ],
   "id": "f9629d0cf2ad882c"
  },
  {
   "metadata": {
    "ExecuteTime": {
     "end_time": "2024-11-19T08:20:20.068447Z",
     "start_time": "2024-11-19T08:20:18.373224Z"
    }
   },
   "cell_type": "code",
   "outputs": [],
   "execution_count": 2,
   "source": [
    "from dataloader import get_dataloader\n",
    "from config import config, arch\n",
    "\n",
    "from torchsummary import summary\n",
    "from torch import nn\n",
    "\n",
    "\n",
    "# config['dataset']\n",
    "# \n",
    "# data_name = \"HeartCalcification_Gray\"\n",
    "data_name = config['dataset']\n",
    "train_dataloader, test_dataloader = get_dataloader(dataset=config['dataset'], root=config['root'] + '/data/', batch_size=config['batch_size'], input_size=config['input_shape'])"
   ],
   "id": "a318d3af80a79524"
  },
  {
   "metadata": {
    "ExecuteTime": {
     "end_time": "2024-11-19T08:41:08.076524Z",
     "start_time": "2024-11-19T08:41:07.306053Z"
    }
   },
   "cell_type": "code",
   "source": [
    "import torch\n",
    "import matplotlib.pyplot as plt\n",
    "\n",
    "import torch\n",
    "import numpy as np\n",
    "from collections import Counter\n",
    "\n",
    "\n",
    "images, labels = torch.tensor([]), torch.tensor([])\n",
    "for batch in test_dataloader:\n",
    "    imgs, lbls = batch\n",
    "    images = torch.cat((images, imgs))\n",
    "    labels = torch.cat((labels, lbls))\n",
    "\n",
    "# 調整形狀為 (900*28*28, 3)\n",
    "images_flat = images.permute(0, 2, 3, 1).reshape(-1, 3).numpy()\n",
    "\n",
    "# 使用 Counter 統計每種 RGB 像素點的出現次數\n",
    "pixel_counts = Counter(map(tuple, images_flat))\n",
    "\n",
    "# 輸出結果\n",
    "for pixel, count in pixel_counts.items():\n",
    "    print(f\"{pixel} : {count}\")"
   ],
   "id": "e93f38f154c3ee31",
   "outputs": [
    {
     "name": "stdout",
     "output_type": "stream",
     "text": [
      "(0.0, 0.0, 0.0) : 523815\n",
      "(0.0, 0.0, 1.0) : 60595\n",
      "(1.0, 0.0, 0.0) : 60595\n",
      "(0.0, 1.0, 0.0) : 60595\n"
     ]
    }
   ],
   "execution_count": 25
  },
  {
   "metadata": {
    "ExecuteTime": {
     "end_time": "2024-11-19T08:26:40.621838Z",
     "start_time": "2024-11-19T08:26:39.007012Z"
    }
   },
   "cell_type": "code",
   "source": [
    "import torch\n",
    "import matplotlib.pyplot as plt\n",
    "\n",
    "images, labels = torch.tensor([]), torch.tensor([])\n",
    "for batch in test_dataloader:\n",
    "    imgs, lbls = batch\n",
    "    images = torch.cat((images, imgs))\n",
    "    labels = torch.cat((labels, lbls))\n",
    "\n",
    "# 設定顯示的圖片數量\n",
    "num_images = min(100, images.size(0))  # 最多顯示100張圖片\n",
    "grid_size = 10  # 10x10的網格\n",
    "\n",
    "# 創建一個10x10的子圖\n",
    "fig, axes = plt.subplots(grid_size, grid_size, figsize=(10, 10))\n",
    "\n",
    "for i in range(grid_size):\n",
    "    for j in range(grid_size):\n",
    "        index = i * grid_size + j\n",
    "        if index < num_images:\n",
    "            axes[i, j].imshow(images[index].permute(1, 2, 0))  # 調整維度以適應imshow\n",
    "        axes[i, j].axis('off')  # 不顯示坐標軸\n",
    "\n",
    "plt.tight_layout()\n",
    "plt.show()"
   ],
   "id": "62f619d220c07c51",
   "outputs": [
    {
     "data": {
      "text/plain": [
       "<Figure size 1000x1000 with 100 Axes>"
      ],
      "image/png": "[encoded data removed]"
     },
     "metadata": {},
     "output_type": "display_data"
    }
   ],
   "execution_count": 8
  },
  {
   "metadata": {
    "ExecuteTime": {
     "end_time": "2024-11-19T08:36:00.417775Z",
     "start_time": "2024-11-19T08:35:59.021955Z"
    }
   },
   "cell_type": "code",
   "source": [
    "import torch\n",
    "import matplotlib.pyplot as plt\n",
    "\n",
    "images, labels = torch.tensor([]), torch.tensor([])\n",
    "for batch in test_dataloader:\n",
    "    imgs, lbls = batch\n",
    "    images = torch.cat((images, imgs))\n",
    "    labels = torch.cat((labels, lbls))\n",
    "\n",
    "# 找到所有包含 (255, 255, 255) 像素的圖片\n",
    "white_pixel_images = []\n",
    "for img in images:\n",
    "    if (img == 1).all(dim=0).any():  # 假設圖片的像素值範圍是 [0, 1]\n",
    "        white_pixel_images.append(img)\n",
    "\n",
    "# 設定顯示的圖片數量\n",
    "num_images = min(100, len(white_pixel_images))  # 最多顯示100張圖片\n",
    "grid_size = 10  # 10x10的網格\n",
    "\n",
    "# 創建一個10x10的子圖\n",
    "fig, axes = plt.subplots(grid_size, grid_size, figsize=(10, 10))\n",
    "\n",
    "for i in range(grid_size):\n",
    "    for j in range(grid_size):\n",
    "        index = i * grid_size + j\n",
    "        if index < num_images:\n",
    "            axes[i, j].imshow(white_pixel_images[index].permute(1, 2, 0))  # 調整維度以適應imshow\n",
    "        axes[i, j].axis('off')  # 不顯示坐標軸\n",
    "\n",
    "plt.tight_layout()\n",
    "plt.show()"
   ],
   "id": "6e804ca9889345c2",
   "outputs": [
    {
     "data": {
      "text/plain": [
       "<Figure size 1000x1000 with 100 Axes>"
      ],
      "image/png": "[encoded data removed]"
     },
     "metadata": {},
     "output_type": "display_data"
    }
   ],
   "execution_count": 18
  },
  {
   "metadata": {
    "ExecuteTime": {
     "end_time": "2024-12-23T08:52:06.071808Z",
     "start_time": "2024-12-23T08:51:43.790734Z"
    }
   },
   "cell_type": "code",
   "source": [
    "\n",
    "from torchsummary import summary\n",
    "from torch import nn\n",
    "import torch\n",
    "\n",
    "from loss.loss_function import get_loss_function\n",
    "from models.SFMCNN import SFMCNN\n",
    "from models.RGB_SFMCNN import RGB_SFMCNN\n",
    "from models.RGB_SFMCNN_V2 import RGB_SFMCNN_V2\n",
    "from dataloader import get_dataloader\n",
    "from config import *\n",
    "\n",
    "\n",
    "from monitor.monitor_method import get_all_layers_stats\n",
    "from monitor.plot_monitor import plot_all_layers_graph\n",
    "\n",
    "with torch.no_grad():\n",
    "    # Load Dataset\n",
    "    train_dataloader, test_dataloader = get_dataloader(dataset=config['dataset'], root=config['root'] + '/data/',\n",
    "                                                       batch_size=config['batch_size'],\n",
    "                                                       input_size=config['input_shape'])\n",
    "    images, labels = torch.tensor([]), torch.tensor([])\n",
    "    for batch in test_dataloader:\n",
    "        imgs, lbls = batch\n",
    "        images = torch.cat((images, imgs))\n",
    "        labels = torch.cat((labels, lbls))\n",
    "    print(images.shape, labels.shape)\n",
    "\n",
    "    # Load Model\n",
    "    models = {'SFMCNN': SFMCNN, 'RGB_SFMCNN': RGB_SFMCNN, 'RGB_SFMCNN_V2': RGB_SFMCNN_V2}\n",
    "    checkpoint_filename = 'RGB_SFMCNN_V2_best'\n",
    "    checkpoint = torch.load(f'./pth/{config[\"dataset\"]}_pth/{checkpoint_filename}.pth', weights_only=True)\n",
    "    model = models[arch['name']](**dict(config['model']['args']))\n",
    "    model.load_state_dict(checkpoint['model_weights'])\n",
    "    model.cpu()\n",
    "    model.eval()\n",
    "    summary(model, input_size=(config['model']['args']['in_channels'], *config['input_shape']), device='cpu')\n",
    "    print(model)\n",
    "\n",
    "    # Test Model\n",
    "    batch_num = 1000\n",
    "    pred = model(images[:batch_num])\n",
    "    y = labels[:batch_num]\n",
    "    correct = (pred.argmax(1) == y.argmax(1)).type(torch.float).sum().item()\n",
    "    print(\"Test Accuracy: \" + str(correct / len(pred)))\n",
    "\n",
    "    loss_fn = get_loss_function(config['loss_fn'])\n",
    "    loss = loss_fn(pred, y)\n",
    "    # input()"
   ],
   "id": "4965bae40a11e390",
   "outputs": [
    {
     "name": "stdout",
     "output_type": "stream",
     "text": [
      "Code/runs/train/exp\n",
      "torch.Size([900, 3, 28, 28]) torch.Size([900, 9])\n"
     ]
    },
    {
     "ename": "FileNotFoundError",
     "evalue": "[Errno 2] No such file or directory: './pth/MultiColor_Shapes_Database_pth/RGB_SFMCNN_V2_best.pth'",
     "output_type": "error",
     "traceback": [
      "\u001B[1;31m---------------------------------------------------------------------------\u001B[0m",
      "\u001B[1;31mFileNotFoundError\u001B[0m                         Traceback (most recent call last)",
      "Cell \u001B[1;32mIn[1], line 31\u001B[0m\n\u001B[0;32m     29\u001B[0m models \u001B[38;5;241m=\u001B[39m {\u001B[38;5;124m'\u001B[39m\u001B[38;5;124mSFMCNN\u001B[39m\u001B[38;5;124m'\u001B[39m: SFMCNN, \u001B[38;5;124m'\u001B[39m\u001B[38;5;124mRGB_SFMCNN\u001B[39m\u001B[38;5;124m'\u001B[39m: RGB_SFMCNN, \u001B[38;5;124m'\u001B[39m\u001B[38;5;124mRGB_SFMCNN_V2\u001B[39m\u001B[38;5;124m'\u001B[39m: RGB_SFMCNN_V2}\n\u001B[0;32m     30\u001B[0m checkpoint_filename \u001B[38;5;241m=\u001B[39m \u001B[38;5;124m'\u001B[39m\u001B[38;5;124mRGB_SFMCNN_V2_best\u001B[39m\u001B[38;5;124m'\u001B[39m\n\u001B[1;32m---> 31\u001B[0m checkpoint \u001B[38;5;241m=\u001B[39m \u001B[43mtorch\u001B[49m\u001B[38;5;241;43m.\u001B[39;49m\u001B[43mload\u001B[49m\u001B[43m(\u001B[49m\u001B[38;5;124;43mf\u001B[39;49m\u001B[38;5;124;43m'\u001B[39;49m\u001B[38;5;124;43m./pth/\u001B[39;49m\u001B[38;5;132;43;01m{\u001B[39;49;00m\u001B[43mconfig\u001B[49m\u001B[43m[\u001B[49m\u001B[38;5;124;43m\"\u001B[39;49m\u001B[38;5;124;43mdataset\u001B[39;49m\u001B[38;5;124;43m\"\u001B[39;49m\u001B[43m]\u001B[49m\u001B[38;5;132;43;01m}\u001B[39;49;00m\u001B[38;5;124;43m_pth/\u001B[39;49m\u001B[38;5;132;43;01m{\u001B[39;49;00m\u001B[43mcheckpoint_filename\u001B[49m\u001B[38;5;132;43;01m}\u001B[39;49;00m\u001B[38;5;124;43m.pth\u001B[39;49m\u001B[38;5;124;43m'\u001B[39;49m\u001B[43m,\u001B[49m\u001B[43m \u001B[49m\u001B[43mweights_only\u001B[49m\u001B[38;5;241;43m=\u001B[39;49m\u001B[38;5;28;43;01mTrue\u001B[39;49;00m\u001B[43m)\u001B[49m\n\u001B[0;32m     32\u001B[0m model \u001B[38;5;241m=\u001B[39m models[arch[\u001B[38;5;124m'\u001B[39m\u001B[38;5;124mname\u001B[39m\u001B[38;5;124m'\u001B[39m]](\u001B[38;5;241m*\u001B[39m\u001B[38;5;241m*\u001B[39m\u001B[38;5;28mdict\u001B[39m(config[\u001B[38;5;124m'\u001B[39m\u001B[38;5;124mmodel\u001B[39m\u001B[38;5;124m'\u001B[39m][\u001B[38;5;124m'\u001B[39m\u001B[38;5;124margs\u001B[39m\u001B[38;5;124m'\u001B[39m]))\n\u001B[0;32m     33\u001B[0m model\u001B[38;5;241m.\u001B[39mload_state_dict(checkpoint[\u001B[38;5;124m'\u001B[39m\u001B[38;5;124mmodel_weights\u001B[39m\u001B[38;5;124m'\u001B[39m])\n",
      "File \u001B[1;32m~\\anaconda3\\envs\\SFM\\lib\\site-packages\\torch\\serialization.py:1065\u001B[0m, in \u001B[0;36mload\u001B[1;34m(f, map_location, pickle_module, weights_only, mmap, **pickle_load_args)\u001B[0m\n\u001B[0;32m   1062\u001B[0m \u001B[38;5;28;01mif\u001B[39;00m \u001B[38;5;124m'\u001B[39m\u001B[38;5;124mencoding\u001B[39m\u001B[38;5;124m'\u001B[39m \u001B[38;5;129;01mnot\u001B[39;00m \u001B[38;5;129;01min\u001B[39;00m pickle_load_args\u001B[38;5;241m.\u001B[39mkeys():\n\u001B[0;32m   1063\u001B[0m     pickle_load_args[\u001B[38;5;124m'\u001B[39m\u001B[38;5;124mencoding\u001B[39m\u001B[38;5;124m'\u001B[39m] \u001B[38;5;241m=\u001B[39m \u001B[38;5;124m'\u001B[39m\u001B[38;5;124mutf-8\u001B[39m\u001B[38;5;124m'\u001B[39m\n\u001B[1;32m-> 1065\u001B[0m \u001B[38;5;28;01mwith\u001B[39;00m \u001B[43m_open_file_like\u001B[49m\u001B[43m(\u001B[49m\u001B[43mf\u001B[49m\u001B[43m,\u001B[49m\u001B[43m \u001B[49m\u001B[38;5;124;43m'\u001B[39;49m\u001B[38;5;124;43mrb\u001B[39;49m\u001B[38;5;124;43m'\u001B[39;49m\u001B[43m)\u001B[49m \u001B[38;5;28;01mas\u001B[39;00m opened_file:\n\u001B[0;32m   1066\u001B[0m     \u001B[38;5;28;01mif\u001B[39;00m _is_zipfile(opened_file):\n\u001B[0;32m   1067\u001B[0m         \u001B[38;5;66;03m# The zipfile reader is going to advance the current file position.\u001B[39;00m\n\u001B[0;32m   1068\u001B[0m         \u001B[38;5;66;03m# If we want to actually tail call to torch.jit.load, we need to\u001B[39;00m\n\u001B[0;32m   1069\u001B[0m         \u001B[38;5;66;03m# reset back to the original position.\u001B[39;00m\n\u001B[0;32m   1070\u001B[0m         orig_position \u001B[38;5;241m=\u001B[39m opened_file\u001B[38;5;241m.\u001B[39mtell()\n",
      "File \u001B[1;32m~\\anaconda3\\envs\\SFM\\lib\\site-packages\\torch\\serialization.py:468\u001B[0m, in \u001B[0;36m_open_file_like\u001B[1;34m(name_or_buffer, mode)\u001B[0m\n\u001B[0;32m    466\u001B[0m \u001B[38;5;28;01mdef\u001B[39;00m \u001B[38;5;21m_open_file_like\u001B[39m(name_or_buffer, mode):\n\u001B[0;32m    467\u001B[0m     \u001B[38;5;28;01mif\u001B[39;00m _is_path(name_or_buffer):\n\u001B[1;32m--> 468\u001B[0m         \u001B[38;5;28;01mreturn\u001B[39;00m \u001B[43m_open_file\u001B[49m\u001B[43m(\u001B[49m\u001B[43mname_or_buffer\u001B[49m\u001B[43m,\u001B[49m\u001B[43m \u001B[49m\u001B[43mmode\u001B[49m\u001B[43m)\u001B[49m\n\u001B[0;32m    469\u001B[0m     \u001B[38;5;28;01melse\u001B[39;00m:\n\u001B[0;32m    470\u001B[0m         \u001B[38;5;28;01mif\u001B[39;00m \u001B[38;5;124m'\u001B[39m\u001B[38;5;124mw\u001B[39m\u001B[38;5;124m'\u001B[39m \u001B[38;5;129;01min\u001B[39;00m mode:\n",
      "File \u001B[1;32m~\\anaconda3\\envs\\SFM\\lib\\site-packages\\torch\\serialization.py:449\u001B[0m, in \u001B[0;36m_open_file.__init__\u001B[1;34m(self, name, mode)\u001B[0m\n\u001B[0;32m    448\u001B[0m \u001B[38;5;28;01mdef\u001B[39;00m \u001B[38;5;21m__init__\u001B[39m(\u001B[38;5;28mself\u001B[39m, name, mode):\n\u001B[1;32m--> 449\u001B[0m     \u001B[38;5;28msuper\u001B[39m()\u001B[38;5;241m.\u001B[39m\u001B[38;5;21m__init__\u001B[39m(\u001B[38;5;28;43mopen\u001B[39;49m\u001B[43m(\u001B[49m\u001B[43mname\u001B[49m\u001B[43m,\u001B[49m\u001B[43m \u001B[49m\u001B[43mmode\u001B[49m\u001B[43m)\u001B[49m)\n",
      "\u001B[1;31mFileNotFoundError\u001B[0m: [Errno 2] No such file or directory: './pth/MultiColor_Shapes_Database_pth/RGB_SFMCNN_V2_best.pth'"
     ]
    }
   ],
   "execution_count": 1
  },
  {
   "metadata": {},
   "cell_type": "code",
   "outputs": [],
   "execution_count": null,
   "source": "",
   "id": "d90caddfe9017407"
  }
 ],
 "metadata": {
  "kernelspec": {
   "display_name": "Python 3",
   "language": "python",
   "name": "python3"
  },
  "language_info": {
   "codemirror_mode": {
    "name": "ipython",
    "version": 2
   },
   "file_extension": ".py",
   "mimetype": "text/x-python",
   "name": "python",
   "nbconvert_exporter": "python",
   "pygments_lexer": "ipython2",
   "version": "2.7.6"
  }
 },
 "nbformat": 4,
 "nbformat_minor": 5
}
