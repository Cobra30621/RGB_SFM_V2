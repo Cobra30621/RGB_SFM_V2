{
 "cells": [
  {
   "cell_type": "code",
   "id": "initial_id",
   "metadata": {
    "collapsed": true,
    "ExecuteTime": {
     "end_time": "2025-03-08T09:54:49.062061Z",
     "start_time": "2025-03-08T09:54:09.244813Z"
    }
   },
   "source": [
    "from numpy.ma.core import shape\n",
    "from torchsummary import summary\n",
    "from torch import nn\n",
    "import torch\n",
    "\n",
    "from loss.loss_function import get_loss_function\n",
    "from models.SFMCNN import SFMCNN\n",
    "from models.RGB_SFMCNN import RGB_SFMCNN\n",
    "from models.RGB_SFMCNN_V2 import RGB_SFMCNN_V2\n",
    "from dataloader import get_dataloader\n",
    "from config import *\n",
    "\n",
    "\n",
    "from monitor.monitor_method import get_all_layers_stats\n",
    "from monitor.plot_df import json_to_table, save_table_as_image, plot_heatmap\n",
    "from monitor.plot_monitor import plot_all_layers_graph\n",
    "\n",
    "with torch.no_grad():\n",
    "    # Load Dataset\n",
    "    train_dataloader, test_dataloader = get_dataloader(dataset=config['dataset'], root=config['root'] + '/data/',\n",
    "                                                       batch_size=config['batch_size'],\n",
    "                                                       input_size=config['input_shape'])\n",
    "    images, labels = torch.tensor([]), torch.tensor([])\n",
    "    for batch in train_dataloader:\n",
    "        imgs, lbls = batch\n",
    "        images = torch.cat((images, imgs))\n",
    "        labels = torch.cat((labels, lbls))\n",
    "    print(images.shape, labels.shape)\n",
    "\n",
    "    # Load Model\n",
    "    models = {'SFMCNN': SFMCNN, 'RGB_SFMCNN': RGB_SFMCNN, 'RGB_SFMCNN_V2': RGB_SFMCNN_V2}\n",
    "    checkpoint_filename = 'RGB_SFMCNN_V2_best'\n",
    "    checkpoint = torch.load(f'./pth/{config[\"dataset\"]}_pth/{checkpoint_filename}.pth', weights_only=True)\n",
    "    model = models[arch['name']](**dict(config['model']['args']))\n",
    "    model.load_state_dict(checkpoint['model_weights'])\n",
    "    model.cpu()\n",
    "    model.eval()\n",
    "    summary(model, input_size=(config['model']['args']['in_channels'], *config['input_shape']), device='cpu')\n",
    "    print(model)\n",
    "\n",
    "    # Test Model\n",
    "    batch_num = 1000\n",
    "    pred = model(images[:batch_num])\n",
    "    y = labels[:batch_num]\n",
    "    correct = (pred.argmax(1) == y.argmax(1)).type(torch.float).sum().item()\n",
    "    print(\"Test Accuracy: \" + str(correct / len(pred)))\n",
    "\n",
    "    loss_fn = get_loss_function(config['loss_fn'])\n",
    "    loss = loss_fn(pred, y)\n",
    "    # input()"
   ],
   "outputs": [
    {
     "name": "stdout",
     "output_type": "stream",
     "text": [
      "Code/runs/train/exp\n",
      "torch.Size([60000, 3, 28, 28]) torch.Size([60000, 30])\n",
      "triangle\n",
      "cReLU_percent\n",
      "----------------------------------------------------------------\n",
      "        Layer (type)               Output Shape         Param #\n",
      "================================================================\n",
      "        RGB_Conv2d-1             [-1, 30, 6, 6]               0\n",
      "        RGB_Conv2d-2             [-1, 30, 6, 6]               0\n",
      "          triangle-3             [-1, 30, 6, 6]               0\n",
      "          triangle-4             [-1, 30, 6, 6]               0\n",
      "     cReLU_percent-5             [-1, 30, 6, 6]               0\n",
      "     cReLU_percent-6             [-1, 30, 6, 6]               0\n",
      "               SFM-7             [-1, 30, 3, 6]               0\n",
      "        RBF_Conv2d-8            [-1, 225, 3, 6]           6,750\n",
      "     cReLU_percent-9            [-1, 225, 3, 6]               0\n",
      "              SFM-10            [-1, 225, 3, 3]               0\n",
      "       RBF_Conv2d-11            [-1, 625, 3, 3]         140,625\n",
      "    cReLU_percent-12            [-1, 625, 3, 3]               0\n",
      "      Gray_Conv2d-13             [-1, 70, 6, 6]           1,750\n",
      "      Gray_Conv2d-14             [-1, 70, 6, 6]           1,750\n",
      "    cReLU_percent-15             [-1, 70, 6, 6]               0\n",
      "    cReLU_percent-16             [-1, 70, 6, 6]               0\n",
      "              SFM-17             [-1, 70, 3, 6]               0\n",
      "       RBF_Conv2d-18            [-1, 625, 3, 6]          43,750\n",
      "    cReLU_percent-19            [-1, 625, 3, 6]               0\n",
      "              SFM-20            [-1, 625, 3, 3]               0\n",
      "       RBF_Conv2d-21           [-1, 1225, 3, 3]         765,625\n",
      "    cReLU_percent-22           [-1, 1225, 3, 3]               0\n",
      "           Linear-23                   [-1, 30]         499,530\n",
      "================================================================\n",
      "Total params: 1,459,780\n",
      "Trainable params: 1,459,780\n",
      "Non-trainable params: 0\n",
      "----------------------------------------------------------------\n",
      "Input size (MB): 0.01\n",
      "Forward/backward pass size (MB): 0.69\n",
      "Params size (MB): 5.57\n",
      "Estimated Total Size (MB): 6.26\n",
      "----------------------------------------------------------------\n",
      "RGB_SFMCNN_V2(\n",
      "  (RGB_conv2d): Sequential(\n",
      "    (0): RGB_Conv2d(initial = uniform, weight shape = torch.Size([30, 3]), cal_dist = LAB)\n",
      "    (1): triangle(w = 1.0)\n",
      "    (2): cReLU_percent(percent=0.30000001192092896)\n",
      "  )\n",
      "  (GRAY_conv2d): Sequential(\n",
      "    (0): Gray_Conv2d(initial = kaiming, weight shape = (70, 1, 5, 5))\n",
      "    (1): cReLU_percent(percent=0.30000001192092896)\n",
      "  )\n",
      "  (RGB_convs): Sequential(\n",
      "    (0): Sequential(\n",
      "      (0): RGB_Conv2d(initial = uniform, weight shape = torch.Size([30, 3]), cal_dist = LAB)\n",
      "      (1): triangle(w = 1.0)\n",
      "      (2): cReLU_percent(percent=0.30000001192092896)\n",
      "    )\n",
      "    (1): SFM(\n",
      "      filter=(2, 1), alpha=[[0.99]\n",
      "       [0.9 ]]\n",
      "    )\n",
      "    (2): Sequential(\n",
      "      (0): RBF_Conv2d(initial = kaiming, weight shape = (225, 30, 1, 1))\n",
      "      (1): cReLU_percent(percent=0.4000000059604645)\n",
      "      (2): SFM(filter=(1, 2), alpha=[[0.99 0.9 ]])\n",
      "    )\n",
      "    (3): Sequential(\n",
      "      (0): RBF_Conv2d(initial = kaiming, weight shape = (625, 225, 1, 1))\n",
      "      (1): cReLU_percent(percent=0.5)\n",
      "    )\n",
      "  )\n",
      "  (Gray_convs): Sequential(\n",
      "    (0): Sequential(\n",
      "      (0): Gray_Conv2d(initial = kaiming, weight shape = (70, 1, 5, 5))\n",
      "      (1): cReLU_percent(percent=0.30000001192092896)\n",
      "    )\n",
      "    (1): SFM(\n",
      "      filter=(2, 1), alpha=[[0.99]\n",
      "       [0.9 ]]\n",
      "    )\n",
      "    (2): Sequential(\n",
      "      (0): RBF_Conv2d(initial = kaiming, weight shape = (625, 70, 1, 1))\n",
      "      (1): cReLU_percent(percent=0.4000000059604645)\n",
      "      (2): SFM(filter=(1, 2), alpha=[[0.99 0.9 ]])\n",
      "    )\n",
      "    (3): Sequential(\n",
      "      (0): RBF_Conv2d(initial = kaiming, weight shape = (1225, 625, 1, 1))\n",
      "      (1): cReLU_percent(percent=0.5)\n",
      "    )\n",
      "  )\n",
      "  (fc1): Sequential(\n",
      "    (0): Linear(in_features=16650, out_features=30, bias=True)\n",
      "  )\n",
      ")\n",
      "Test Accuracy: 1.0\n",
      "prediction: torch.Size([1000, 30])\n",
      "tensor(1.3905e-06, dtype=torch.float64)\n"
     ]
    }
   ],
   "execution_count": 1
  },
  {
   "metadata": {
    "ExecuteTime": {
     "end_time": "2025-03-08T10:24:45.271799Z",
     "start_time": "2025-03-08T10:24:45.258296Z"
    }
   },
   "cell_type": "code",
   "source": [
    "import warnings\n",
    "warnings.filterwarnings('ignore')\n",
    "from torchvision import transforms\n",
    "\n",
    "from pytorch_grad_cam import run_dff_on_image, GradCAM\n",
    "from pytorch_grad_cam.utils.model_targets import ClassifierOutputTarget\n",
    "from pytorch_grad_cam.utils.image import show_cam_on_image\n",
    "from PIL import Image\n",
    "import numpy as np\n",
    "import cv2\n",
    "import torch\n",
    "from typing import List, Callable, Optional\n",
    "\n",
    "\n",
    "\n",
    "\n",
    "\"\"\" Model wrapper to return a tensor\"\"\"\n",
    "class HuggingfaceToTensorModelWrapper(torch.nn.Module):\n",
    "    def __init__(self, model):\n",
    "        super(HuggingfaceToTensorModelWrapper, self).__init__()\n",
    "        self.model = model\n",
    "\n",
    "    def forward(self, x):\n",
    "        y = self.model(x)\n",
    "        return self.model(x)\n",
    "\n",
    "\n",
    "class SimilarityToConceptTarget:\n",
    "    def __init__(self, features):\n",
    "        self.features = features\n",
    "    \n",
    "    def __call__(self, model_output):\n",
    "        cos = torch.nn.CosineSimilarity(dim=0)\n",
    "        print(\"model_output: \", model_output.shape)\n",
    "        print(\"self.features: \", self.features.shape)\n",
    "        print(\"cos: \", cos(model_output, self.features))\n",
    "        return cos(model_output, self.features)\n",
    "\n",
    "\n",
    "\"\"\" Translate the category name to the category index.\n",
    "    Some models aren't trained on Imagenet but on even larger datasets,\n",
    "    so we can't just assume that 761 will always be remote-control.\n",
    "\n",
    "\"\"\"\n",
    "def category_name_to_index(model, category_name):\n",
    "    name_to_index = dict((v, k) for k, v in model.config.id2label.items())\n",
    "    return name_to_index[category_name]\n",
    "    \n",
    "\"\"\" Helper function to run GradCAM on an image and create a visualization.\n",
    "    (note to myself: this is probably useful enough to move into the package)\n",
    "    If several targets are passed in targets_for_gradcam,\n",
    "    e.g different categories,\n",
    "    a visualization for each of them will be created.\n",
    "    \n",
    "\"\"\"\n",
    "def run_grad_cam_on_image(model: torch.nn.Module,\n",
    "                          target_layer: torch.nn.Module,\n",
    "                          targets_for_gradcam: List[Callable],\n",
    "                          reshape_transform: Optional[Callable],\n",
    "                          input_tensor: torch.nn.Module,\n",
    "                          input_image: Image,\n",
    "                          method: Callable=GradCAM):\n",
    "    with method(model=HuggingfaceToTensorModelWrapper(model),\n",
    "                 target_layers=[target_layer],\n",
    "                 reshape_transform=reshape_transform) as cam:\n",
    "\n",
    "        # Replicate the tensor for each of the categories we want to create Grad-CAM for:\n",
    "        repeated_tensor = input_tensor[None, :].repeat(len(targets_for_gradcam), 1, 1, 1)\n",
    "        \n",
    "        batch_results = cam(input_tensor=repeated_tensor,\n",
    "                            targets=targets_for_gradcam)\n",
    "        \n",
    "\n",
    "        results = []\n",
    "        for grayscale_cam in batch_results:\n",
    "            visualization = show_cam_on_image(np.float32(input_image)/255,\n",
    "                                              grayscale_cam,\n",
    "                                              use_rgb=True)\n",
    "            # Make it weight less in the notebook:\n",
    "            visualization = cv2.resize(visualization,\n",
    "                                       (visualization.shape[1] * 2, visualization.shape[0] * 2))\n",
    "            results.append(visualization)\n",
    "        return np.hstack(results)\n",
    "    \n",
    "    \n",
    "def print_top_categories(model, img_tensor, top_k=5):\n",
    "    logits = model(img_tensor.unsqueeze(0))\n",
    "    indices = logits.cpu()[0, :].detach().numpy().argsort()[-top_k :][::-1]\n",
    "    print(f\"logit : {logits}\")\n",
    "    print(f\"indices : {indices}\")\n",
    "    # for i in indices:\n",
    "    #     print(f\"Predicted class {i}: {model.config.id2label[i]}\")\n",
    "    \n",
    "def get_max_index(model, img_tensor, top_k=5):\n",
    "    logits = model(img_tensor.unsqueeze(0))\n",
    "    indices = logits.cpu()[0, :].detach().numpy().argsort()[-top_k :][::-1]\n",
    "    # print(f\"logit : {logits}\")\n",
    "    # print(f\"indices : {indices}\")\n",
    "    # \n",
    "    return indices[0]\n",
    "\n",
    "def show_all_heatmap(model, img_tensor, index = -1):\n",
    "    if index == -1:\n",
    "        index = get_max_index(model, img_tensor)\n",
    "    print(f\"index : {index}\" )\n",
    "    targets_for_gradcam = [ClassifierOutputTarget(index)]\n",
    "    \n",
    "    \n",
    "    for layer in layers:\n",
    "        print(f\"Layer: {layer}\")\n",
    "        target_layer = layers[layer]\n",
    "        \n",
    "        cam_img = run_grad_cam_on_image(model=model,\n",
    "                              target_layer=target_layer,\n",
    "                              targets_for_gradcam=targets_for_gradcam,\n",
    "                              reshape_transform=None,\n",
    "                                         input_tensor=img_tensor,\n",
    "                                         input_image=image)\n",
    "        \n",
    "        display(Image.fromarray(cam_img))"
   ],
   "id": "963d46f7d6f23820",
   "outputs": [],
   "execution_count": 33
  },
  {
   "metadata": {
    "ExecuteTime": {
     "end_time": "2025-03-08T09:55:54.293265Z",
     "start_time": "2025-03-08T09:55:54.272133Z"
    }
   },
   "cell_type": "code",
   "source": [
    "device = 'cpu'\n",
    "layers = {}\n",
    "layers['RGB_convs_0'] = model.RGB_convs[1]  # 空間合併前\n",
    "# \n",
    "layers['RGB_convs_1'] = model.RGB_convs[2][1]  # 空間合併前\n",
    "\n",
    "layers['RGB_convs_2'] = model.RGB_convs[3]\n",
    "\n",
    "layers['Gray_convs_0'] = model.Gray_convs[0][1]\n",
    "# \n",
    "layers['Gray_convs_1'] = model.Gray_convs[2][1]  # 空間合併前\n",
    "\n",
    "layers['Gray_convs_2'] = model.Gray_convs[3]\n",
    "\n",
    "layers\n"
   ],
   "id": "635bc9446a38a6bb",
   "outputs": [
    {
     "data": {
      "text/plain": [
       "{'RGB_convs_0': SFM(\n",
       "   filter=(2, 1), alpha=[[0.99]\n",
       "    [0.9 ]]\n",
       " ),\n",
       " 'RGB_convs_1': cReLU_percent(percent=0.4000000059604645),\n",
       " 'RGB_convs_2': Sequential(\n",
       "   (0): RBF_Conv2d(initial = kaiming, weight shape = (625, 225, 1, 1))\n",
       "   (1): cReLU_percent(percent=0.5)\n",
       " ),\n",
       " 'Gray_convs_0': cReLU_percent(percent=0.30000001192092896),\n",
       " 'Gray_convs_1': cReLU_percent(percent=0.4000000059604645),\n",
       " 'Gray_convs_2': Sequential(\n",
       "   (0): RBF_Conv2d(initial = kaiming, weight shape = (1225, 625, 1, 1))\n",
       "   (1): cReLU_percent(percent=0.5)\n",
       " )}"
      ]
     },
     "execution_count": 6,
     "metadata": {},
     "output_type": "execute_result"
    }
   ],
   "execution_count": 6
  },
  {
   "metadata": {
    "ExecuteTime": {
     "end_time": "2025-03-08T10:33:34.102297Z",
     "start_time": "2025-03-08T10:33:32.977876Z"
    }
   },
   "cell_type": "code",
   "source": [
    "for i in range(0, 5):\n",
    "\n",
    "    image = images[i]\n",
    "    # 将 torch.Tensor 转换为 PIL Image\n",
    "    image = transforms.ToPILImage()(image)\n",
    "    img_tensor = transforms.ToTensor()(image)\n",
    "    \n",
    "    display(image)\n",
    "    \n",
    "    show_all_heatmap(model, img_tensor)\n",
    "\n"
   ],
   "id": "2079fe04c14e3f3f",
   "outputs": [
    {
     "data": {
      "text/plain": [
       "<PIL.Image.Image image mode=RGB size=28x28>"
      ],
      "image/png": "[encoded data removed]",
      "image/jpeg": "[encoded data removed]"
     },
     "metadata": {},
     "output_type": "display_data"
    },
    {
     "name": "stdout",
     "output_type": "stream",
     "text": [
      "logit : tensor([[ 18.6729, -40.8763,   5.2983, -24.2325, -30.0623, -35.8662,  -0.9524,\n",
      "         -19.5898, -30.3936, -12.7920,  -5.9715, -80.3550, -27.6583, -55.3454,\n",
      "         -43.4096, -69.0840, -31.2406, -61.7927, -51.7227, -49.4445, -11.8581,\n",
      "         -71.7809, -29.3594, -47.7584, -51.4586, -67.0915, -38.5866, -53.5844,\n",
      "         -61.1280, -44.3852]], grad_fn=<AddmmBackward0>)\n",
      "indices : [ 0  2  6 10 20]\n",
      "index : 0\n",
      "Layer: RGB_convs_0\n"
     ]
    },
    {
     "data": {
      "text/plain": [
       "<PIL.Image.Image image mode=RGB size=56x56>"
      ],
      "image/png": "[encoded data removed]",
      "image/jpeg": "[encoded data removed]"
     },
     "metadata": {},
     "output_type": "display_data"
    },
    {
     "name": "stdout",
     "output_type": "stream",
     "text": [
      "Layer: RGB_convs_1\n"
     ]
    },
    {
     "data": {
      "text/plain": [
       "<PIL.Image.Image image mode=RGB size=56x56>"
      ],
      "image/png": "[encoded data removed]",
      "image/jpeg": "[encoded data removed]"
     },
     "metadata": {},
     "output_type": "display_data"
    },
    {
     "name": "stdout",
     "output_type": "stream",
     "text": [
      "Layer: RGB_convs_2\n"
     ]
    },
    {
     "data": {
      "text/plain": [
       "<PIL.Image.Image image mode=RGB size=56x56>"
      ],
      "image/png": "[encoded data removed]",
      "image/jpeg": "[encoded data removed]"
     },
     "metadata": {},
     "output_type": "display_data"
    },
    {
     "name": "stdout",
     "output_type": "stream",
     "text": [
      "Layer: Gray_convs_0\n"
     ]
    },
    {
     "data": {
      "text/plain": [
       "<PIL.Image.Image image mode=RGB size=56x56>"
      ],
      "image/png": "[encoded data removed]",
      "image/jpeg": "[encoded data removed]"
     },
     "metadata": {},
     "output_type": "display_data"
    },
    {
     "name": "stdout",
     "output_type": "stream",
     "text": [
      "Layer: Gray_convs_1\n"
     ]
    },
    {
     "data": {
      "text/plain": [
       "<PIL.Image.Image image mode=RGB size=56x56>"
      ],
      "image/png": "[encoded data removed]",
      "image/jpeg": "[encoded data removed]"
     },
     "metadata": {},
     "output_type": "display_data"
    },
    {
     "name": "stdout",
     "output_type": "stream",
     "text": [
      "Layer: Gray_convs_2\n"
     ]
    },
    {
     "data": {
      "text/plain": [
       "<PIL.Image.Image image mode=RGB size=56x56>"
      ],
      "image/png": "[encoded data removed]",
      "image/jpeg": "[encoded data removed]"
     },
     "metadata": {},
     "output_type": "display_data"
    },
    {
     "data": {
      "text/plain": [
       "<PIL.Image.Image image mode=RGB size=28x28>"
      ],
      "image/png": "[encoded data removed]",
      "image/jpeg": "[encoded data removed]"
     },
     "metadata": {},
     "output_type": "display_data"
    },
    {
     "name": "stdout",
     "output_type": "stream",
     "text": [
      "logit : tensor([[-49.7007, -39.1684, -30.6660, -31.7561, -56.7170, -83.2386, -71.8786,\n",
      "          -9.5491, -39.8805, -39.2960, -48.6323, -39.3107, -33.7352, -30.4826,\n",
      "         -63.9484, -86.1598, -82.2782,  -6.9264, -47.9769, -47.3483, -29.9546,\n",
      "         -28.4581, -15.9851,  -4.8178, -49.5700, -67.3713, -64.2431,  10.3463,\n",
      "         -34.3983, -29.3469]], grad_fn=<AddmmBackward0>)\n",
      "indices : [27 23 17  7 22]\n",
      "index : 27\n",
      "Layer: RGB_convs_0\n"
     ]
    },
    {
     "data": {
      "text/plain": [
       "<PIL.Image.Image image mode=RGB size=56x56>"
      ],
      "image/png": "[encoded data removed]",
      "image/jpeg": "[encoded data removed]"
     },
     "metadata": {},
     "output_type": "display_data"
    },
    {
     "name": "stdout",
     "output_type": "stream",
     "text": [
      "Layer: RGB_convs_1\n"
     ]
    },
    {
     "data": {
      "text/plain": [
       "<PIL.Image.Image image mode=RGB size=56x56>"
      ],
      "image/png": "[encoded data removed]",
      "image/jpeg": "[encoded data removed]"
     },
     "metadata": {},
     "output_type": "display_data"
    },
    {
     "name": "stdout",
     "output_type": "stream",
     "text": [
      "Layer: RGB_convs_2\n"
     ]
    },
    {
     "data": {
      "text/plain": [
       "<PIL.Image.Image image mode=RGB size=56x56>"
      ],
      "image/png": "[encoded data removed]",
      "image/jpeg": "[encoded data removed]"
     },
     "metadata": {},
     "output_type": "display_data"
    },
    {
     "name": "stdout",
     "output_type": "stream",
     "text": [
      "Layer: Gray_convs_0\n"
     ]
    },
    {
     "data": {
      "text/plain": [
       "<PIL.Image.Image image mode=RGB size=56x56>"
      ],
      "image/png": "[encoded data removed]",
      "image/jpeg": "[encoded data removed]"
     },
     "metadata": {},
     "output_type": "display_data"
    },
    {
     "name": "stdout",
     "output_type": "stream",
     "text": [
      "Layer: Gray_convs_1\n"
     ]
    },
    {
     "data": {
      "text/plain": [
       "<PIL.Image.Image image mode=RGB size=56x56>"
      ],
      "image/png": "[encoded data removed]",
      "image/jpeg": "[encoded data removed]"
     },
     "metadata": {},
     "output_type": "display_data"
    },
    {
     "name": "stdout",
     "output_type": "stream",
     "text": [
      "Layer: Gray_convs_2\n"
     ]
    },
    {
     "data": {
      "text/plain": [
       "<PIL.Image.Image image mode=RGB size=56x56>"
      ],
      "image/png": "[encoded data removed]",
      "image/jpeg": "[encoded data removed]"
     },
     "metadata": {},
     "output_type": "display_data"
    },
    {
     "data": {
      "text/plain": [
       "<PIL.Image.Image image mode=RGB size=28x28>"
      ],
      "image/png": "[encoded data removed]",
      "image/jpeg": "[encoded data removed]"
     },
     "metadata": {},
     "output_type": "display_data"
    },
    {
     "name": "stdout",
     "output_type": "stream",
     "text": [
      "logit : tensor([[ -66.3379,  -67.8800,  -40.0294,  -39.8701,  -78.2298,  -77.5818,\n",
      "         -110.5865,   -7.2861,  -64.4257,  -52.6505,  -63.8222,  -73.0636,\n",
      "          -45.4389,  -31.4543,  -57.6969,  -73.5909, -111.8834,   -2.7741,\n",
      "          -64.3334,  -45.8104,  -38.7665,  -37.1066,   -9.4307,  -10.5114,\n",
      "          -36.2491,  -60.1455,  -92.7407,   22.3009,  -48.9087,  -32.3853]],\n",
      "       grad_fn=<AddmmBackward0>)\n",
      "indices : [27 17  7 22 23]\n",
      "index : 27\n",
      "Layer: RGB_convs_0\n"
     ]
    },
    {
     "data": {
      "text/plain": [
       "<PIL.Image.Image image mode=RGB size=56x56>"
      ],
      "image/png": "[encoded data removed]",
      "image/jpeg": "[encoded data removed]"
     },
     "metadata": {},
     "output_type": "display_data"
    },
    {
     "name": "stdout",
     "output_type": "stream",
     "text": [
      "Layer: RGB_convs_1\n"
     ]
    },
    {
     "data": {
      "text/plain": [
       "<PIL.Image.Image image mode=RGB size=56x56>"
      ],
      "image/png": "[encoded data removed]",
      "image/jpeg": "[encoded data removed]"
     },
     "metadata": {},
     "output_type": "display_data"
    },
    {
     "name": "stdout",
     "output_type": "stream",
     "text": [
      "Layer: RGB_convs_2\n"
     ]
    },
    {
     "data": {
      "text/plain": [
       "<PIL.Image.Image image mode=RGB size=56x56>"
      ],
      "image/png": "[encoded data removed]",
      "image/jpeg": "[encoded data removed]"
     },
     "metadata": {},
     "output_type": "display_data"
    },
    {
     "name": "stdout",
     "output_type": "stream",
     "text": [
      "Layer: Gray_convs_0\n"
     ]
    },
    {
     "data": {
      "text/plain": [
       "<PIL.Image.Image image mode=RGB size=56x56>"
      ],
      "image/png": "[encoded data removed]",
      "image/jpeg": "[encoded data removed]"
     },
     "metadata": {},
     "output_type": "display_data"
    },
    {
     "name": "stdout",
     "output_type": "stream",
     "text": [
      "Layer: Gray_convs_1\n"
     ]
    },
    {
     "data": {
      "text/plain": [
       "<PIL.Image.Image image mode=RGB size=56x56>"
      ],
      "image/png": "[encoded data removed]",
      "image/jpeg": "[encoded data removed]"
     },
     "metadata": {},
     "output_type": "display_data"
    },
    {
     "name": "stdout",
     "output_type": "stream",
     "text": [
      "Layer: Gray_convs_2\n"
     ]
    },
    {
     "data": {
      "text/plain": [
       "<PIL.Image.Image image mode=RGB size=56x56>"
      ],
      "image/png": "[encoded data removed]",
      "image/jpeg": "[encoded data removed]"
     },
     "metadata": {},
     "output_type": "display_data"
    },
    {
     "data": {
      "text/plain": [
       "<PIL.Image.Image image mode=RGB size=28x28>"
      ],
      "image/png": "[encoded data removed]",
      "image/jpeg": "[encoded data removed]"
     },
     "metadata": {},
     "output_type": "display_data"
    },
    {
     "name": "stdout",
     "output_type": "stream",
     "text": [
      "logit : tensor([[-61.3109, -48.1159, -24.0471, -49.9210, -69.0890, -96.4456, -71.4671,\n",
      "         -60.6152, -55.2568, -90.5457, -29.6095, -31.7850,  16.9271, -10.9055,\n",
      "         -37.1141, -59.3716, -47.7548, -26.4997, -33.3960, -52.7088, -53.9620,\n",
      "         -40.9695,  -9.4940, -52.9745, -61.3431, -88.8577, -67.4655, -51.2423,\n",
      "         -54.7397, -84.9776]], grad_fn=<AddmmBackward0>)\n",
      "indices : [12 22 13  2 17]\n",
      "index : 12\n",
      "Layer: RGB_convs_0\n"
     ]
    },
    {
     "data": {
      "text/plain": [
       "<PIL.Image.Image image mode=RGB size=56x56>"
      ],
      "image/png": "[encoded data removed]",
      "image/jpeg": "[encoded data removed]"
     },
     "metadata": {},
     "output_type": "display_data"
    },
    {
     "name": "stdout",
     "output_type": "stream",
     "text": [
      "Layer: RGB_convs_1\n"
     ]
    },
    {
     "data": {
      "text/plain": [
       "<PIL.Image.Image image mode=RGB size=56x56>"
      ],
      "image/png": "[encoded data removed]",
      "image/jpeg": "[encoded data removed]"
     },
     "metadata": {},
     "output_type": "display_data"
    },
    {
     "name": "stdout",
     "output_type": "stream",
     "text": [
      "Layer: RGB_convs_2\n"
     ]
    },
    {
     "data": {
      "text/plain": [
       "<PIL.Image.Image image mode=RGB size=56x56>"
      ],
      "image/png": "[encoded data removed]",
      "image/jpeg": "[encoded data removed]"
     },
     "metadata": {},
     "output_type": "display_data"
    },
    {
     "name": "stdout",
     "output_type": "stream",
     "text": [
      "Layer: Gray_convs_0\n"
     ]
    },
    {
     "data": {
      "text/plain": [
       "<PIL.Image.Image image mode=RGB size=56x56>"
      ],
      "image/png": "[encoded data removed]",
      "image/jpeg": "[encoded data removed]"
     },
     "metadata": {},
     "output_type": "display_data"
    },
    {
     "name": "stdout",
     "output_type": "stream",
     "text": [
      "Layer: Gray_convs_1\n"
     ]
    },
    {
     "data": {
      "text/plain": [
       "<PIL.Image.Image image mode=RGB size=56x56>"
      ],
      "image/png": "[encoded data removed]",
      "image/jpeg": "[encoded data removed]"
     },
     "metadata": {},
     "output_type": "display_data"
    },
    {
     "name": "stdout",
     "output_type": "stream",
     "text": [
      "Layer: Gray_convs_2\n"
     ]
    },
    {
     "data": {
      "text/plain": [
       "<PIL.Image.Image image mode=RGB size=56x56>"
      ],
      "image/png": "[encoded data removed]",
      "image/jpeg": "[encoded data removed]"
     },
     "metadata": {},
     "output_type": "display_data"
    },
    {
     "data": {
      "text/plain": [
       "<PIL.Image.Image image mode=RGB size=28x28>"
      ],
      "image/png": "[encoded data removed]",
      "image/jpeg": "[encoded data removed]"
     },
     "metadata": {},
     "output_type": "display_data"
    },
    {
     "name": "stdout",
     "output_type": "stream",
     "text": [
      "logit : tensor([[-39.3417, -23.6819, -43.0551, -43.2296,  30.0617, -29.3882, -28.9183,\n",
      "           2.0149, -18.8090,  -5.0249, -63.6383, -62.6982, -64.5295, -66.4237,\n",
      "           6.5877, -64.4005, -64.8729, -39.1628, -42.3336, -33.2672, -58.6582,\n",
      "         -62.7220, -67.2260, -54.7038,  -3.2701, -63.7484, -70.6257, -34.5611,\n",
      "         -41.2843, -27.7016]], grad_fn=<AddmmBackward0>)\n",
      "indices : [ 4 14  7 24  9]\n",
      "index : 4\n",
      "Layer: RGB_convs_0\n"
     ]
    },
    {
     "data": {
      "text/plain": [
       "<PIL.Image.Image image mode=RGB size=56x56>"
      ],
      "image/png": "[encoded data removed]",
      "image/jpeg": "[encoded data removed]"
     },
     "metadata": {},
     "output_type": "display_data"
    },
    {
     "name": "stdout",
     "output_type": "stream",
     "text": [
      "Layer: RGB_convs_1\n"
     ]
    },
    {
     "data": {
      "text/plain": [
       "<PIL.Image.Image image mode=RGB size=56x56>"
      ],
      "image/png": "[encoded data removed]",
      "image/jpeg": "[encoded data removed]"
     },
     "metadata": {},
     "output_type": "display_data"
    },
    {
     "name": "stdout",
     "output_type": "stream",
     "text": [
      "Layer: RGB_convs_2\n"
     ]
    },
    {
     "data": {
      "text/plain": [
       "<PIL.Image.Image image mode=RGB size=56x56>"
      ],
      "image/png": "[encoded data removed]",
      "image/jpeg": "[encoded data removed]"
     },
     "metadata": {},
     "output_type": "display_data"
    },
    {
     "name": "stdout",
     "output_type": "stream",
     "text": [
      "Layer: Gray_convs_0\n"
     ]
    },
    {
     "data": {
      "text/plain": [
       "<PIL.Image.Image image mode=RGB size=56x56>"
      ],
      "image/png": "[encoded data removed]",
      "image/jpeg": "[encoded data removed]"
     },
     "metadata": {},
     "output_type": "display_data"
    },
    {
     "name": "stdout",
     "output_type": "stream",
     "text": [
      "Layer: Gray_convs_1\n"
     ]
    },
    {
     "data": {
      "text/plain": [
       "<PIL.Image.Image image mode=RGB size=56x56>"
      ],
      "image/png": "[encoded data removed]",
      "image/jpeg": "[encoded data removed]"
     },
     "metadata": {},
     "output_type": "display_data"
    },
    {
     "name": "stdout",
     "output_type": "stream",
     "text": [
      "Layer: Gray_convs_2\n"
     ]
    },
    {
     "data": {
      "text/plain": [
       "<PIL.Image.Image image mode=RGB size=56x56>"
      ],
      "image/png": "[encoded data removed]",
      "image/jpeg": "[encoded data removed]"
     },
     "metadata": {},
     "output_type": "display_data"
    }
   ],
   "execution_count": 39
  },
  {
   "metadata": {
    "ExecuteTime": {
     "end_time": "2025-03-07T11:37:24.821060Z",
     "start_time": "2025-03-07T11:37:24.813296Z"
    }
   },
   "cell_type": "code",
   "source": " model.Gray_convs",
   "id": "aa22444377928097",
   "outputs": [
    {
     "data": {
      "text/plain": [
       "Sequential(\n",
       "  (0): Sequential(\n",
       "    (0): Gray_Conv2d(initial = kaiming, weight shape = (70, 1, 5, 5))\n",
       "    (1): cReLU_percent(percent=0.30000001192092896)\n",
       "  )\n",
       "  (1): SFM(\n",
       "    filter=(2, 2), alpha=[[0.99 0.96]\n",
       "     [0.93 0.9 ]]\n",
       "  )\n",
       "  (2): Sequential(\n",
       "    (0): RBF_Conv2d(initial = kaiming, weight shape = (625, 70, 1, 1))\n",
       "    (1): cReLU_percent(percent=0.4000000059604645)\n",
       "    (2): SFM(filter=(1, 3), alpha=[[0.99  0.945 0.9  ]])\n",
       "  )\n",
       "  (3): Sequential(\n",
       "    (0): RBF_Conv2d(initial = kaiming, weight shape = (1225, 625, 1, 1))\n",
       "    (1): cReLU_percent(percent=0.5)\n",
       "  )\n",
       ")"
      ]
     },
     "execution_count": 81,
     "metadata": {},
     "output_type": "execute_result"
    }
   ],
   "execution_count": 81
  },
  {
   "metadata": {
    "ExecuteTime": {
     "end_time": "2025-03-07T11:39:29.573746Z",
     "start_time": "2025-03-07T11:39:29.563234Z"
    }
   },
   "cell_type": "code",
   "source": "model.RGB_convs",
   "id": "645a2e07ea6bf7ea",
   "outputs": [
    {
     "data": {
      "text/plain": [
       "Sequential(\n",
       "  (0): Sequential(\n",
       "    (0): RGB_Conv2d(initial = uniform, weight shape = torch.Size([30, 3]), cal_dist = LAB)\n",
       "    (1): triangle(w = 1.0)\n",
       "    (2): cReLU_percent(percent=0.30000001192092896)\n",
       "  )\n",
       "  (1): SFM(\n",
       "    filter=(2, 2), alpha=[[0.99 0.96]\n",
       "     [0.93 0.9 ]]\n",
       "  )\n",
       "  (2): Sequential(\n",
       "    (0): RBF_Conv2d(initial = kaiming, weight shape = (225, 30, 1, 1))\n",
       "    (1): cReLU_percent(percent=0.4000000059604645)\n",
       "    (2): SFM(filter=(1, 3), alpha=[[0.99  0.945 0.9  ]])\n",
       "  )\n",
       "  (3): Sequential(\n",
       "    (0): RBF_Conv2d(initial = kaiming, weight shape = (625, 225, 1, 1))\n",
       "    (1): cReLU_percent(percent=0.5)\n",
       "  )\n",
       ")"
      ]
     },
     "execution_count": 82,
     "metadata": {},
     "output_type": "execute_result"
    }
   ],
   "execution_count": 82
  },
  {
   "metadata": {},
   "cell_type": "code",
   "outputs": [],
   "execution_count": null,
   "source": "",
   "id": "a98311207df0c98"
  }
 ],
 "metadata": {
  "kernelspec": {
   "display_name": "Python 3",
   "language": "python",
   "name": "python3"
  },
  "language_info": {
   "codemirror_mode": {
    "name": "ipython",
    "version": 2
   },
   "file_extension": ".py",
   "mimetype": "text/x-python",
   "name": "python",
   "nbconvert_exporter": "python",
   "pygments_lexer": "ipython2",
   "version": "2.7.6"
  }
 },
 "nbformat": 4,
 "nbformat_minor": 5
}
