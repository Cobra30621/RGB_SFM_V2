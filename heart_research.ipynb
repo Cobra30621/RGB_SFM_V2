{
 "cells": [
  {
   "cell_type": "code",
   "id": "initial_id",
   "metadata": {
    "collapsed": true,
    "ExecuteTime": {
     "end_time": "2024-09-28T13:00:24.012714Z",
     "start_time": "2024-09-28T13:00:19.850022Z"
    }
   },
   "source": [
    "import torch\n",
    "from sklearn.metrics import confusion_matrix, ConfusionMatrixDisplay\n",
    "import matplotlib.pyplot as plt\n",
    "from torchsummary import summary\n",
    "import os\n",
    "from torchvision.utils import make_grid\n",
    "import numpy as np\n",
    "\n",
    "from config import config, arch\n",
    "from dataloader import get_dataloader\n",
    "from models.SFMCNN import SFMCNN\n",
    "from models.RGB_SFMCNN import RGB_SFMCNN\n",
    "\n",
    "def load_model():\n",
    "    models = {'SFMCNN': SFMCNN, 'RGB_SFMCNN':RGB_SFMCNN}\n",
    "    checkpoint_filename = 'RGB_SFMCNN_best_weight'\n",
    "    checkpoint = torch.load(f'./pth/{config[\"dataset\"]}_pth/{checkpoint_filename}.pth' , weights_only=True)\n",
    "    model = models[arch['name']](**dict(config['model']['args']))\n",
    "    model.load_state_dict(checkpoint['model_weights'])\n",
    "    model.cpu()\n",
    "    model.eval()\n",
    "    summary(model, input_size = (config['model']['args']['in_channels'], *config['input_shape']), device='cpu')\n",
    "    print(model)\n",
    "    return model\n",
    "\n",
    "def load_dataloader():\n",
    "    return get_dataloader(dataset='HeartCalcification', root=config['root'] + '/data/',\n",
    "                          batch_size=config['batch_size'], input_size=config['input_shape'])\n",
    "\n",
    "def predict(model, dataloader):\n",
    "    all_preds = []\n",
    "    all_labels = []\n",
    "    with torch.no_grad():\n",
    "        for images, labels in dataloader:\n",
    "            outputs = model(images)\n",
    "            _, preds = torch.max(outputs, 1)\n",
    "            all_preds.extend(preds.cpu().numpy())\n",
    "            all_labels.extend(labels.argmax(dim=1).cpu().numpy())\n",
    "    return all_preds, all_labels\n",
    "\n",
    "def plot_confusion_matrix(pred_labels, true_labels):\n",
    "    cm = confusion_matrix(true_labels, pred_labels)\n",
    "    disp = ConfusionMatrixDisplay(confusion_matrix=cm)\n",
    "    disp.plot(cmap=plt.cm.Blues)\n",
    "    plt.show()\n",
    "\n",
    "def visualize_image(img, label, save_path=None):\n",
    "    plt.figure(figsize=(10, 10))\n",
    "    plt.imshow(img)\n",
    "\n",
    "    height, width = img.shape[:2]\n",
    "    num_blocks_h, num_blocks_w = label.shape\n",
    "\n",
    "    # 繪製網格線\n",
    "    for i in range(1, num_blocks_h):\n",
    "        plt.axhline(y=i * height / num_blocks_h, color='w', linestyle='-', linewidth=1)\n",
    "    for j in range(1, num_blocks_w):\n",
    "        plt.axvline(x=j * width / num_blocks_w, color='w', linestyle='-', linewidth=1)\n",
    "\n",
    "    # 在標籤為真的格子中繪製 'O'\n",
    "    for i in range(num_blocks_h):\n",
    "        for j in range(num_blocks_w):\n",
    "            if label[i, j] == 1:\n",
    "                plt.text(j * width / num_blocks_w + width / (2 * num_blocks_w),\n",
    "                         i * height / num_blocks_h + height / (2 * num_blocks_h), 'O',\n",
    "                         color='r', fontsize=12, ha='center', va='center')\n",
    "\n",
    "    plt.axis('off')\n",
    "    plt.tight_layout()\n",
    "\n",
    "    if save_path:\n",
    "        plt.savefig(save_path, bbox_inches='tight', pad_inches=0)\n",
    "        print(f\"圖像已保存到: {save_path}\")\n",
    "    else:\n",
    "        plt.show()\n",
    "\n",
    "    plt.close()\n",
    "\n",
    "def visualize_and_save_images(dataset, labels, save_dir, label_type='true'):\n",
    "    if not os.path.exists(save_dir):\n",
    "        os.makedirs(save_dir)\n",
    "\n",
    "\n",
    "    for idx in range(len(dataset.images)):\n",
    "        img = dataset.images[idx]\n",
    "        label = labels[idx]\n",
    "\n",
    "        save_path = os.path.join(save_dir, f'output_image_{idx}_{label_type}_label.png')\n",
    "        visualize_image(img, label, save_path)"
   ],
   "outputs": [
    {
     "name": "stdout",
     "output_type": "stream",
     "text": [
      "Code\\runs\\train\\exp933333333633340333473353333403333333335\n"
     ]
    }
   ],
   "execution_count": 1
  },
  {
   "metadata": {
    "ExecuteTime": {
     "end_time": "2024-09-28T13:01:46.039960Z",
     "start_time": "2024-09-28T13:00:24.747613Z"
    }
   },
   "cell_type": "code",
   "source": [
    "# 主程序\n",
    "model = load_model()\n",
    "_, test_dataloader = load_dataloader()\n",
    "pred_labels, true_labels = predict(model, test_dataloader)\n",
    "plot_confusion_matrix(pred_labels, true_labels)\n"
   ],
   "id": "8eab3072609deb5a",
   "outputs": [
    {
     "name": "stdout",
     "output_type": "stream",
     "text": [
      "----------------------------------------------------------------\n",
      "        Layer (type)               Output Shape         Param #\n",
      "================================================================\n",
      "        RGB_Conv2d-1             [-1, 30, 6, 6]               0\n",
      "        RGB_Conv2d-2             [-1, 30, 6, 6]               0\n",
      "             gauss-3             [-1, 30, 6, 6]               0\n",
      "             gauss-4             [-1, 30, 6, 6]               0\n",
      "     cReLU_percent-5             [-1, 30, 6, 6]               0\n",
      "     cReLU_percent-6             [-1, 30, 6, 6]               0\n",
      "               SFM-7             [-1, 30, 3, 3]               0\n",
      "        RBF_Conv2d-8            [-1, 225, 3, 3]           6,750\n",
      "             gauss-9            [-1, 225, 3, 3]               0\n",
      "    cReLU_percent-10            [-1, 225, 3, 3]               0\n",
      "              SFM-11            [-1, 225, 3, 1]               0\n",
      "       RBF_Conv2d-12            [-1, 625, 3, 1]         140,625\n",
      "            gauss-13            [-1, 625, 3, 1]               0\n",
      "    cReLU_percent-14            [-1, 625, 3, 1]               0\n",
      "      Gray_Conv2d-15             [-1, 70, 6, 6]           1,750\n",
      "      Gray_Conv2d-16             [-1, 70, 6, 6]           1,750\n",
      "            gauss-17             [-1, 70, 6, 6]               0\n",
      "            gauss-18             [-1, 70, 6, 6]               0\n",
      "    cReLU_percent-19             [-1, 70, 6, 6]               0\n",
      "    cReLU_percent-20             [-1, 70, 6, 6]               0\n",
      "              SFM-21             [-1, 70, 3, 3]               0\n",
      "       RBF_Conv2d-22            [-1, 625, 3, 3]          43,750\n",
      "            gauss-23            [-1, 625, 3, 3]               0\n",
      "    cReLU_percent-24            [-1, 625, 3, 3]               0\n",
      "              SFM-25            [-1, 625, 3, 1]               0\n",
      "       RBF_Conv2d-26           [-1, 1225, 3, 1]         765,625\n",
      "            gauss-27           [-1, 1225, 3, 1]               0\n",
      "    cReLU_percent-28           [-1, 1225, 3, 1]               0\n",
      "           Linear-29                    [-1, 2]          11,102\n",
      "================================================================\n",
      "Total params: 971,352\n",
      "Trainable params: 971,352\n",
      "Non-trainable params: 0\n",
      "----------------------------------------------------------------\n",
      "Input size (MB): 0.01\n",
      "Forward/backward pass size (MB): 0.49\n",
      "Params size (MB): 3.71\n",
      "Estimated Total Size (MB): 4.21\n",
      "----------------------------------------------------------------\n",
      "RGB_SFMCNN(\n",
      "  (RGB_conv2d): Sequential(\n",
      "    (0): RGB_Conv2d(initial = kaiming, weight shape = torch.Size([28, 3]), cal_dist = LAB)\n",
      "    (1): gauss(std=0.6895754933357239)\n",
      "    (2): cReLU_percent(percent=0.30000001192092896)\n",
      "  )\n",
      "  (GRAY_conv2d): Sequential(\n",
      "    (0): Gray_Conv2d(initial = kaiming, is_weight_cdist = False,weight shape = (70, 1, 5, 5))\n",
      "    (1): gauss(std=1.1837587356567383)\n",
      "    (2): cReLU_percent(percent=0.30000001192092896)\n",
      "  )\n",
      "  (RGB_convs): Sequential(\n",
      "    (0): Sequential(\n",
      "      (0): RGB_Conv2d(initial = kaiming, weight shape = torch.Size([28, 3]), cal_dist = LAB)\n",
      "      (1): gauss(std=0.6895754933357239)\n",
      "      (2): cReLU_percent(percent=0.30000001192092896)\n",
      "    )\n",
      "    (1): SFM(\n",
      "      filter=(2, 2), alpha=[[0.9  0.93]\n",
      "       [0.96 0.99]]\n",
      "    )\n",
      "    (2): Sequential(\n",
      "      (0): RBF_Conv2d(initial = kaiming, is_weight_cdist = False,weight shape = (225, 30, 1, 1))\n",
      "      (1): gauss(std=1.0976402759552002)\n",
      "      (2): cReLU_percent(percent=0.4000000059604645)\n",
      "      (3): SFM(filter=(1, 3), alpha=[[0.9   0.945 0.99 ]])\n",
      "    )\n",
      "    (3): Sequential(\n",
      "      (0): RBF_Conv2d(initial = kaiming, is_weight_cdist = False,weight shape = (625, 225, 1, 1))\n",
      "      (1): gauss(std=0.4211164712905884)\n",
      "      (2): cReLU_percent(percent=0.5)\n",
      "    )\n",
      "  )\n",
      "  (Gray_convs): Sequential(\n",
      "    (0): Sequential(\n",
      "      (0): Gray_Conv2d(initial = kaiming, is_weight_cdist = False,weight shape = (70, 1, 5, 5))\n",
      "      (1): gauss(std=1.1837587356567383)\n",
      "      (2): cReLU_percent(percent=0.30000001192092896)\n",
      "    )\n",
      "    (1): SFM(\n",
      "      filter=(2, 2), alpha=[[0.9  0.93]\n",
      "       [0.96 0.99]]\n",
      "    )\n",
      "    (2): Sequential(\n",
      "      (0): RBF_Conv2d(initial = kaiming, is_weight_cdist = False,weight shape = (625, 70, 1, 1))\n",
      "      (1): gauss(std=2.8914871215820312)\n",
      "      (2): cReLU_percent(percent=0.4000000059604645)\n",
      "      (3): SFM(filter=(1, 3), alpha=[[0.9   0.945 0.99 ]])\n",
      "    )\n",
      "    (3): Sequential(\n",
      "      (0): RBF_Conv2d(initial = kaiming, is_weight_cdist = False,weight shape = (1225, 625, 1, 1))\n",
      "      (1): gauss(std=0.3182489275932312)\n",
      "      (2): cReLU_percent(percent=0.5)\n",
      "    )\n",
      "  )\n",
      "  (fc1): Sequential(\n",
      "    (0): Linear(in_features=5550, out_features=2, bias=True)\n",
      "  )\n",
      ")\n"
     ]
    },
    {
     "data": {
      "text/plain": [
       "<Figure size 640x480 with 2 Axes>"
      ],
      "image/png": "[encoded data removed]"
     },
     "metadata": {},
     "output_type": "display_data"
    }
   ],
   "execution_count": 2
  },
  {
   "metadata": {
    "ExecuteTime": {
     "end_time": "2024-09-28T12:57:00.561491Z",
     "start_time": "2024-09-28T12:57:00.068123Z"
    }
   },
   "cell_type": "code",
   "source": [
    "# 可視化並保存圖像，使用預測標籤\n",
    "save_dir = 'D:\\Paper\\Cardiac calcification\\output_image\\weight_15_pred'\n",
    "visualize_and_save_images(test_dataloader, pred_labels, save_dir, label_type='pred')"
   ],
   "id": "9a9424610b437f3c",
   "outputs": [
    {
     "ename": "AttributeError",
     "evalue": "'DataLoader' object has no attribute 'images'",
     "output_type": "error",
     "traceback": [
      "\u001B[1;31m---------------------------------------------------------------------------\u001B[0m",
      "\u001B[1;31mAttributeError\u001B[0m                            Traceback (most recent call last)",
      "Cell \u001B[1;32mIn[3], line 3\u001B[0m\n\u001B[0;32m      1\u001B[0m \u001B[38;5;66;03m# 可視化並保存圖像，使用預測標籤\u001B[39;00m\n\u001B[0;32m      2\u001B[0m save_dir \u001B[38;5;241m=\u001B[39m \u001B[38;5;124m'\u001B[39m\u001B[38;5;124mD:\u001B[39m\u001B[38;5;124m\\\u001B[39m\u001B[38;5;124mPaper\u001B[39m\u001B[38;5;124m\\\u001B[39m\u001B[38;5;124mCardiac calcification\u001B[39m\u001B[38;5;124m\\\u001B[39m\u001B[38;5;124moutput_image\u001B[39m\u001B[38;5;124m\\\u001B[39m\u001B[38;5;124mweight_15_pred\u001B[39m\u001B[38;5;124m'\u001B[39m\n\u001B[1;32m----> 3\u001B[0m \u001B[43mvisualize_and_save_images\u001B[49m\u001B[43m(\u001B[49m\u001B[43mtest_dataloader\u001B[49m\u001B[43m,\u001B[49m\u001B[43m \u001B[49m\u001B[43mpred_labels\u001B[49m\u001B[43m,\u001B[49m\u001B[43m \u001B[49m\u001B[43msave_dir\u001B[49m\u001B[43m,\u001B[49m\u001B[43m \u001B[49m\u001B[43mlabel_type\u001B[49m\u001B[38;5;241;43m=\u001B[39;49m\u001B[38;5;124;43m'\u001B[39;49m\u001B[38;5;124;43mpred\u001B[39;49m\u001B[38;5;124;43m'\u001B[39;49m\u001B[43m)\u001B[49m\n",
      "Cell \u001B[1;32mIn[1], line 84\u001B[0m, in \u001B[0;36mvisualize_and_save_images\u001B[1;34m(dataset, labels, save_dir, label_type)\u001B[0m\n\u001B[0;32m     80\u001B[0m \u001B[38;5;28;01mif\u001B[39;00m \u001B[38;5;129;01mnot\u001B[39;00m os\u001B[38;5;241m.\u001B[39mpath\u001B[38;5;241m.\u001B[39mexists(save_dir):\n\u001B[0;32m     81\u001B[0m     os\u001B[38;5;241m.\u001B[39mmakedirs(save_dir)\n\u001B[1;32m---> 84\u001B[0m \u001B[38;5;28;01mfor\u001B[39;00m idx \u001B[38;5;129;01min\u001B[39;00m \u001B[38;5;28mrange\u001B[39m(\u001B[38;5;28mlen\u001B[39m(\u001B[43mdataset\u001B[49m\u001B[38;5;241;43m.\u001B[39;49m\u001B[43mimages\u001B[49m)):\n\u001B[0;32m     85\u001B[0m     img \u001B[38;5;241m=\u001B[39m dataset\u001B[38;5;241m.\u001B[39mimages[idx]\n\u001B[0;32m     86\u001B[0m     label \u001B[38;5;241m=\u001B[39m labels[idx]\n",
      "\u001B[1;31mAttributeError\u001B[0m: 'DataLoader' object has no attribute 'images'"
     ]
    }
   ],
   "execution_count": 3
  },
  {
   "metadata": {
    "ExecuteTime": {
     "end_time": "2024-09-28T14:51:46.868193Z",
     "start_time": "2024-09-28T14:51:46.846655Z"
    }
   },
   "cell_type": "code",
   "source": "dataset = HeartCalcificationWithoutSplit('data/HeartCalcification/test', grid_size=45)\n",
   "id": "eacfc69374c431bd",
   "outputs": [],
   "execution_count": 7
  },
  {
   "metadata": {
    "ExecuteTime": {
     "end_time": "2024-09-28T14:51:53.347031Z",
     "start_time": "2024-09-28T14:51:53.342041Z"
    }
   },
   "cell_type": "code",
   "source": "dataset",
   "id": "5c87c4498262768f",
   "outputs": [
    {
     "data": {
      "text/plain": [
       "<__main__.HeartCalcificationWithoutSplit at 0x1ba91073970>"
      ]
     },
     "execution_count": 8,
     "metadata": {},
     "output_type": "execute_result"
    }
   ],
   "execution_count": 8
  },
  {
   "metadata": {},
   "cell_type": "code",
   "outputs": [],
   "execution_count": null,
   "source": [
    "for idx, (img, label) in enumerate(dataset):\n",
    "\n",
    "    save_path = f'data/visual_45/output_image_{idx}.png'\n",
    "    visualize_image(img, label, save_path=save_path)\n"
   ],
   "id": "c2097ca377096c72"
  },
  {
   "metadata": {
    "ExecuteTime": {
     "end_time": "2024-09-28T14:51:43.672304Z",
     "start_time": "2024-09-28T14:51:43.654326Z"
    }
   },
   "cell_type": "code",
   "source": [
    "import os\n",
    "import cv2\n",
    "import numpy as np\n",
    "import torch\n",
    "from torch.utils.data import Dataset, DataLoader\n",
    "import matplotlib.pyplot as plt\n",
    "\n",
    "\n",
    "\n",
    "class HeartCalcificationWithoutSplit(Dataset):\n",
    "    def __init__(self, data_dir, grid_size=15):\n",
    "        self.data_dir = data_dir\n",
    "        self.grid_size = grid_size\n",
    "        self.image_files = [f for f in os.listdir(data_dir) if f.endswith('.png')]\n",
    "        self.label_files = [f.replace('.png', '.txt') for f in self.image_files]\n",
    "\n",
    "    def __len__(self):\n",
    "        return len(self.image_files)\n",
    "\n",
    "    def __getitem__(self, idx):\n",
    "        img_path = os.path.join(self.data_dir, self.image_files[idx])\n",
    "        label_path = os.path.join(self.data_dir, self.label_files[idx])\n",
    "\n",
    "        img = cv2.imread(img_path)\n",
    "        img = cv2.cvtColor(img, cv2.COLOR_BGR2RGB)\n",
    "        height, width = img.shape[:2]\n",
    "\n",
    "        with open(label_path, 'r') as f:\n",
    "            line = f.readline().strip()\n",
    "            if line:\n",
    "                _, x_center, y_center, w, h = map(float, line.split())\n",
    "                x = int(x_center * width)\n",
    "                y = int(y_center * height)\n",
    "            else:\n",
    "                x, y = -1, -1\n",
    "\n",
    "        num_blocks_h = height // self.grid_size\n",
    "        num_blocks_w = width // self.grid_size\n",
    "        label = np.zeros((num_blocks_h, num_blocks_w), dtype=np.int8)\n",
    "\n",
    "        with open(label_path , 'r') as f:\n",
    "            lines = f.readlines()\n",
    "            for line in lines:\n",
    "                line = line.strip()\n",
    "                if line:\n",
    "                    _, x_center, y_center, w, h = map(float, line.split())\n",
    "                    x = int(x_center * width)\n",
    "                    y = int(y_center * height)\n",
    "\n",
    "                    block_i = y // self.grid_size\n",
    "                    block_j = x // self.grid_size\n",
    "\n",
    "                    if 0 <= block_i < num_blocks_h and 0 <= block_j < num_blocks_w:\n",
    "                        label[block_i, block_j] = 1\n",
    "\n",
    "        return img, label\n",
    "\n",
    "\n"
   ],
   "id": "a66a0f6194bedf2c",
   "outputs": [],
   "execution_count": 6
  },
  {
   "metadata": {},
   "cell_type": "code",
   "outputs": [],
   "execution_count": null,
   "source": "",
   "id": "fa0548856fcd4391"
  }
 ],
 "metadata": {
  "kernelspec": {
   "display_name": "Python 3",
   "language": "python",
   "name": "python3"
  },
  "language_info": {
   "codemirror_mode": {
    "name": "ipython",
    "version": 2
   },
   "file_extension": ".py",
   "mimetype": "text/x-python",
   "name": "python",
   "nbconvert_exporter": "python",
   "pygments_lexer": "ipython2",
   "version": "2.7.6"
  }
 },
 "nbformat": 4,
 "nbformat_minor": 5
}
